{
 "cells": [
  {
   "cell_type": "code",
   "execution_count": 1,
   "metadata": {},
   "outputs": [],
   "source": [
    "import requests, re"
   ]
  },
  {
   "cell_type": "code",
   "execution_count": 64,
   "metadata": {},
   "outputs": [],
   "source": [
    "res = requests.get(\"https://exafluence.com\")"
   ]
  },
  {
   "cell_type": "code",
   "execution_count": null,
   "metadata": {},
   "outputs": [],
   "source": []
  },
  {
   "cell_type": "code",
   "execution_count": 27,
   "metadata": {},
   "outputs": [
    {
     "name": "stdout",
     "output_type": "stream",
     "text": [
      "['info@exafluence.com', 'info@exafluence.com', 'info@exafluence.com']\n"
     ]
    }
   ],
   "source": [
    "lst = re.findall('\\S+@\\S+', striphtml(res.content.decode()))\n",
    "\n",
    "print(lst)"
   ]
  },
  {
   "cell_type": "code",
   "execution_count": 28,
   "metadata": {},
   "outputs": [],
   "source": [
    "def striphtml(data):\n",
    "    p = re.compile(r'<.*?>')\n",
    "    return p.sub('', data)"
   ]
  },
  {
   "cell_type": "code",
   "execution_count": 29,
   "metadata": {},
   "outputs": [
    {
     "data": {
      "text/plain": [
       "'\\n\\n\\n\\n\\n\\nExafluence | Leading Analytics and Data Science Service Provider in USA\\n\\n\\n\\n\\n\\n\\n\\n\\n\\n\\n\\n\\n\\n\\n\\n\\n\\n\\n\\n\\n\\n\\n\\n\\n\\n\\n   \\n    \\n        Exafluence\\n        \\n                \\n                \\n    \\n\\n\\n    \\n       \\n        \\n            \\n\\t\\t\\t\\t\\n                    \\n                        \\n                        \\n                            \\n                        \\n                    \\n\\n                    \\n                       \\n                        \\n                            \\n                                \\n                                Phone Number\\n                                 +1 (888) 223 6742\\n                            \\n                            \\n                                \\n                                Email Address\\n                                info@exafluence.com\\n                            \\n                        \\n                    \\n    \\n                   \\n                \\n            \\n        \\n\\n       \\n        \\n            \\n                \\n                 \\n                    \\n                       \\n                        \\n\\n                       \\n                        \\n                            \\n                                \\n                                    Home\\n                                      \\n                                    \\n                              \\n                                    Services\\n                                        \\n                                            Digichain\\n                                            SCMXpert\\n\\t\\t\\t\\t\\t\\t\\t\\t\\t\\t\\tSotero\\n                                            \\t\\t\\t\\tBusiness Consulting\\n                                                            \\t\\t\\t\\tAlteryx\\n                                                                            \\t\\t\\t\\tMongoDB\\n                                                                                                       \\t\\t\\t\\tMulesoft\\n                                        \\n                                    \\n                                    Products\\n                                        \\n                                            Exf Health 360\\n                                            Exf Insights\\n                                            Exf Industry 4.0\\n                                            RevAssurant\\n                                             Analytics Connect\\n                                        \\n                                    \\n                                    \\n                                          Partners\\n                                                                 News &amp; Events\\n                                    Resources\\n                                        \\n                                            Blogs\\n                                            Case Studies and White Papers\\n                                        \\n                                        \\n                                    \\n                                   \\n                                    Careers\\n                                    Enquiry\\n                                \\n                            \\n                        \\n                      \\n                        \\n                        \\n                            \\n                            \\n                            \\n                            \\n                        \\n                    \\n                \\n            \\n        \\n        \\n        \\n            \\n      \\n                \\n                    \\n                \\n                \\n                \\n                 \\n                    \\n                        \\n                    \\n                \\n            \\n        \\n        \\n            \\n            \\n            \\n            \\n                \\n                \\n\\t\\t\\t\\t\\n\\t\\t\\t\\t\\n            \\n        \\n    \\n   \\n    \\n\\t\\t\\n\\t\\t\\n\\t\\t\\t\\n\\t\\t\\t\\t\\n\\n\\t\\t\\t\\t\\n\\t\\t\\t\\t\\t\\n\\n\\t\\t\\t\\t\\t\\tExafluence \\n\\t\\t\\t\\t\\t\\tAre you able to keep up the health of your data under governance \\n\\t\\t\\t\\t\\t\\t-- Read More --\\n\\t\\t\\t\\t\\t\\n\\t\\t\\t\\t\\n\\t\\t\\t\\n\\n\\t\\t\\t\\n\\t\\t\\t\\n\\t\\t\\t\\t\\n\\n\\t\\t\\t\\t\\n\\t\\t\\t\\t\\t\\n \\n                        Exafluence \\n                        Are you able to free up your bandwidth from cost-saving projects to allocate more time for data innovation projects\\n                      -- Read More --\\n                    \\n\\t\\t\\t\\t\\n\\t\\t\\t\\n            \\n            \\n\\t\\t\\t\\t\\n\\n\\t\\t\\t\\t\\n\\t\\t\\t\\t\\t\\n \\n                        Exafluence \\n                        Are you able to enrich your data using external and internal sources\\n                      -- Read More --\\n                    \\n\\t\\t\\t\\t\\n\\t\\t\\t\\n\\n\\t\\t\\n    \\n   \\n    \\n        \\n            \\n                \\n                   \\n                    \\n                        \\n                            \\n                            Announces\\n                           \\n                           \\n                        \\n                    \\n                  \\n                    \\n                        \\n                            \\n                            Exafluence is one of the top 20 players in the Healthcare sector, Our unique Healthcare  Platform gets recognition\\n                         \\n                            Read More\\n                        \\n                    \\n                 \\n                   \\n                \\n            \\n        \\n    \\n    \\n    \\n    \\n        \\n            \\n                \\n                    \\n                        \\n                            \\n                        \\n                        \\n                            exf\\n                            \\n                        \\n                    \\n                \\n                \\n                    \\n                        \\n                            About Us\\n             \\n                            Exafluence is a next generation, Global Technology Solutions company focusing on solving complex business problems leveraging Big Data, Cloud Computing, Blockchain, Industrial IoT and Advanced Analytics - Machine Learning and Artificial Intelligence to enable our client\\'s digital transformation imperatives through innovation, agility and customer centricity.\\n                            \\n                             We use Microservices architecture and custom-built platforms and accelerators that expedite solution development using our jumpstart API\\'s, Registries, Industry standard data models and KPI repositories for Financial Services, Healthcare, Life Sciences, Insurance and Manufacturing verticals.\\n                                   Our team of Client Advisors, Subject Matter Experts, Data Scientists, Analysts, Engineers and Developers, coupled with our ecosystem of partners, brings cross-industry and multi-client perspective across both matured and developing markets with round the clock execution capabilities.\\n\\n\\n-- View All  --\\n                        \\n                        \\n                            \\n                                \\n                                    \\n                                    Phone Number\\n                                    +1 (888) 223 6742\\n\\n\\n                                \\n                            \\n                            \\n                                \\n                                    \\n                                    Email Address\\n                                    info@exafluence.com\\n                                \\n                            \\n                        \\n                                \\n                    \\n                \\n            \\n        \\n    \\n\\n   \\n    \\n        \\n            \\n                \\n                    \\n                        \\n                            Our Services\\n           \\n                        \\n                        \\n                            \\n                            \\n\\nDigichain\\n                            We provide consultancy and expertise with blockchain...  \\n                            \\n                            \\n                            \\n                          \\n                        \\n                        \\n                            \\n                            SCMXpert\\n                            Exafluence leverages cutting-edge technologies like IOT,AI... \\n                        \\n                        \\n                            \\n                            Sotero\\n                            Sotero protecting sensitive customer data in a Post-GDPR... \\n                        \\n                        \\n                        \\n                       \\n                            \\n                            Alteryx\\n                            Exafluence is a Master Reseller of Alteryx\\'s data sciences and... \\n                        \\n                        \\n                        \\n                         \\n                            \\n                            MongoDB\\n                            Exafluence leverages our technology partnership with MongoDB \\n                        \\n                        \\n                         \\n                            \\n                            MuleSoft\\n                            Exafluence houses a dedicated MuleSoft services provider in USA \\n                          \\n                        \\n                        \\n                        \\n                        \\n                        \\n                                            \\n                \\n                \\n                  \\n                    \\n                        \\n                            \\n                            \\n                            \\n                        \\n                        \\n\\n                            \\n                            \\n                                \\n                                    \\n                                        \\n                                        \\n                                        \\n                                    \\n                                \\n                            \\n\\n                           \\n                            \\n                                \\n                                    \\n                                        \\n                                        \\n                                     \\n                                    \\n                                \\n                            \\n\\n                          \\n                            \\n                                \\n                                    \\n                                        \\n                                        \\n                                    \\n                                    \\n                                \\n                            \\n                            \\n                            \\n                            \\n                                \\n                                    \\n                                        \\n                                       \\n                                      \\n                                    \\n                                \\n                            \\n\\n                           \\n                            \\n                                \\n                                    \\n                                        \\n                                        \\n                                    \\n                                    \\n                                \\n                            \\n                            \\n                           \\n                            \\n                                \\n                                    \\n                                        \\n                                        \\n                                       \\n                                    \\n                                \\n                            \\n                            \\n                        \\n                    \\n                   \\n                        \\n                        \\n                            \\n                            <h2  style=\"background: -webkit-linear-gradient(#fff, #0CF;\\n  -webkit-background-clip: text;\\n  -webkit-text-fill-color: transparent\">Our Success Stories\\n              \\n                            Leading Healthcare Company Life Sciences\\n\\n\\n-- Read More  --\\n                        \\n                        \\n                    \\n                \\n            \\n        \\n    \\n\\n    \\n  \\n        \\n        \\n                Our Success Stories\\n                \\n            \\n        \\n           \\n            \\n                \\n                \\n               \\n                    \\n                        \\n                            \\n                                \\n                                \\n                                    Leading Healthcare Company Life Sciences\\n                                \\n                        -- Read More  --\\n                        \\n                            \\n                        \\n                    \\n\\n                    \\n                    \\n                \\n            \\n        \\n    -->\\n\\n \\n    \\n        \\n                            \\n                \\n                    \\n                        \\n                            \\nOur Happy Clients\\n          \\n                        \\n                        \\n                            Sotero \\n                            \\n                            SCMXpert\\n                            \\n                            \\n                        \\n\\n                      \\n                        \\n                            \\n                                \\n                                    \\n                                   \\n                                    Exafluence has served as a trusted partner for Sotero in its journey of Product Development, Support, Validation and Enhancement for specific end client &nbsp;&nbsp;&nbsp;&nbsp;&nbsp;use cases.\\n        Purandar Das\\n(CEO Sotero Soft.) \\n\\n\\nRead More                            \\n                                    \\n                                    \\n                                    \\n                                \\n                            \\n                            \\n                                \\n                                    \\n                                   \\n                                    Exafluence has served as a trusted partner for SCMXpert in its journey of Product Development\\n        Sanjay Choubey\\n(CEO SCMXpert) \\n\\n\\nRead More                            \\n                                    \\n                                    \\n                                             \\n                            \\n                            \\n                                \\n                                    \\n                                    Lorem ipsum dolor sit amet, consectetur adipisici ng elit, sed do eiusmod tempor incididunt ut labo re et dolore magna aliqua. Ut enim ad minim veni am, quis nostrud exercitation ullamco.Duis aute irure dolor in reprehenderit in voluptate velit esse cillum dolore eu fugiat nulla pariatur. Excepteur sint occaecat cupidatat non proident, sunt in culpa qui officia deserunt mollit anim id est laborum. Sed ut perspiciatis unde omnis iste natus error\\n                                \\n                            \\n                        \\n                                \\n                    \\n                \\n                \\n                    \\n                        \\n                        \\n                    \\n                \\n            \\n        \\n    \\n\\n\\n\\n\\n\\n\\n\\n       \\n       \\n       \\n                Our Team\\n                \\n            \\n  \\n  \\n    \\n      \\n        &nbsp;\\n      \\n\\n      \\n       \\n        Title\\n        A brief description.\\n      \\n    \\n  \\n\\n\\n    \\n      \\n        \\n        \\n          Ravikiran DharmavaramCEO\\n        \\n      \\n      Ravikiran Dharmavaram(CEO)\\n      Ravi has 20+ years of experience in developing solutions for Capital markets, Banking, Insurance, Healthcare verticals, he was head of Business intelligence and Analytics practice for TCS, IGATE for North America regionRavi was instrumental in building various technology accelerators for implementing 360 degrees view of portfolio,transactions,AUM,trade analytics,Risk and performance for asset management companies,sales force integration with AUM for distribution side,Data quality solution for Legal entity identifiers,Mobile BI apps for BFSI customers,Payer analytics for Healthcare & Insurance vertical,MRO and warehouse analytics for travel & transportation vertical.Ravi is an industry recognized speaker in several forums like Microstrategy world, FIMA, EDM council, World 2013 etc... and has also presented on \\'Next generation technologies in reporting in Financial information management\\' at FIMA 2012 and \\'Effective data strategies to manage Enterprise risk\\' at FIMA2011. Hosted several joint webinars with EDM council on topics related to reference data.\\n      \\n     \\n    \\n    \\n      \\n        \\n        \\n          Richard RobinsChief Revenue Officer\\n        \\n      \\n Richard Robins(Chief Revenue Officer)\\n      Rich Robins is a senior financial technology (“FinTech”) executive with a significant track record of assisting global FinTech software organizations with sales and marketing strategy and messaging as well as an investor in successful FinTech start-ups. He brings a global business, sales and technology perspective to the Exafluence team through his work with international software and IT services organizations and is focused on improving operational efficiency via deployment of RPA, ML and AI to provide solutions for improved business processes. Rich has been a global sales leader for both Eagle Investment Systems and Markit Enterprise Data Management, two leading global FinTech firms. Earlier in his career he was a Senior Manager with Deloitte Consulting\\'s FinTech practice in New York. Rich has been a lifelong FinTech customer as well, having run Corporate, Broker and Investment Systems for Mutual of New York and for Chancellor Capital Management (a $40 Billion AUM buy-side firm). Rich also designed and supported energy trading floors, systems Integration, and computer operations for Louis Dreyfus Energy.His most recent investment and advisory role was with the data governance software house Data3Sixty, which was recently acquired by Infogix in 2017 and with Implement Capital’s investment in Brilliance Financial Technology. During his tenure with Eagle Investment Systems, Rich worked on strategy, technical pre-sales, channel partner programs, and international business development / expansion.Rich is a CPA and board member of Chemocomfort, a NYC 100pc volunteer charitable organization. He has participated on AICPA technology committees and presented to GARP.\\n        \\n    \\n    \\n      \\n        \\n        \\n          Mital PanaraVice President HealthCare\\n        \\n      \\n Mital Panara(Vice President HealthCare)\\n      Currently Advisor to Exafluence inc Formely worked as Senior Executive Vice President of Freedom Health,Optimum Health, Beacon Health and AFCSC Health plan responsible for all the Revenue Management activities,including develop plan benefits,Medicare Risk Adjustment,RAPS process,Encounter Process,CSNP,Analytical,management,Revenue compliance monitoring and Successfully integration of other companies into Umbrella Organization. Joined Freedom Health since the inception of the company and helps to achieve the 7th fastest growing Private Company in the USA as per INC 500.Served as an Executive Committee member of Chamber of Commerce and Professor at West bay Career University. Graduated Magna Cum Laude with MBA in Business/Finance, also served also served as President of Honor Society and President of Learning Society.Proficient and well-known Public Speaker, Spoke at various conferences held by leading organizers in Healthcare Industry, including World Congress, Financial Research, RISE Group, World Research Group, Opal Group etc.on Medicare, Health Care Revenue Management and Compliance,Audience includes eminent personalities like Senator,Executives of Government Agencies including CMS,CEO,CFO and VP of Health Organizations throughout World.\\n      \\n    \\n    \\n      \\n        \\n        \\n          Sreenivas N TalapakaCOO\\n        \\n      \\n       Sreenivas N Talapaka(COO)\\n      Sreenivas, Experienced professional with more than 27 years of experience in domestic and international operations, product development, project management, strategic planning, P&L oversight, logistics marketing involving startup and grown organizations. Sreenivas joined Exafluence, heading India operations. He is also a promoter of a 17 + year old ITeS company SV Infosys working the areas of Multimedia, web technologies, call centre, software development, image &Data processing Executed large volume Digital archiving project Digital library of India for Carnegie Mellon University., USA and another 9 countries. Designed, implemented and maintained the customer relation centre and call centre (BPO) to cater the requirements of 300 thousand customers of the government power distribution company. Exposed in the areas of production management and planning, delivery commitments of multi-vendor systems and Exposed to labour laws, wages act, and excise customs regulations. \\n    \\n    \\n      \\n        \\n        \\n          Rohit SharmaVice President Sales\\n        \\n      \\n      Rohit Sharma(Vice President Sales)\\n      Rohit has over 17 years of overall experience in IT and Ops Advisory Sales and Transformation Consulting across North America, Europe and APAC. Has sold to some of the largest, global Banking and Financial Services players, Capital Markets Firms, Investment Managers, Hedge Funds, Insurance Firms and Healthcare Providers. Was based in the US for 6+ years handling BFSI sales for a mid-sized, global IT Systems Integrator. Rohit has spearheaded multiple Client Acquisitions globally and managed sustained growth of key Client Relationships. Has been involved in Sales Support, Bid Management, Solution Design, Pre-Sales, Client Relationship Management, Key Account Management, Sales Strategy and P&L Management.\\n    \\n  \\n  \\n\\n    \\n\\n\\n\\n\\n\\n\\n\\n\\n\\n\\n\\n\\n\\n\\n\\n\\n\\n\\n\\n\\n    \\n   \\n        \\n            \\n                Our Team\\n                \\n            \\n            \\n                \\n                \\n                    \\n                        \\n                        \\n                            CEO\\n                            Ravikiran Dharmavaram\\n                            \\n                            \\n                     \\n                        \\n                    \\n                    \\n                \\n             \\n                \\n                    \\n                        \\n                        \\n                            Chief Revenue Officer\\n                            Richard Robins\\n                            \\n                            \\n                        \\n                        \\n                    \\n                \\n             \\n                \\n                    \\n                        \\n                        \\n                            Vice President HealthCare\\n                            Mital Panara\\n                            \\n                            \\n                          \\n                        \\n                    \\n                    \\n                \\n                \\n                \\n                \\n                    \\n                        \\n                        \\n                            COO\\n                            Sreenivas N Talapaka\\n                            \\n                            \\n                           \\n                        \\n                    \\n                \\n                \\n                \\n                 \\n                    \\n                        \\n                        \\n                            Vice President Sales\\n                            Rohit Sharma\\n                            \\n                        \\n                    \\n                \\n                \\n                \\n                \\n                \\n            \\n        \\n    -->\\n\\n    \\n    \\n        \\n        \\n           \\n                Latest News\\n               \\n            \\n            \\n                \\n                \\n                    \\n                        \\n                        \\n                            Rutgers\\n                            \\n                                25th  December 2018\\n                                By Rutgers\\n                            \\n                            \\n                            Exafluence signs the Industrial Affiliate Program (IAP)\\n                        \\n                    \\n                \\n                \\n                \\n                    \\n                        \\n                        \\n                            Orlando USA\\n                            \\n                                25th February 2019\\n                                 Orlando USA\\n                            \\n                            \\n                            Exafluence presence in HIMSS2019 Orlando USA\\n                        \\n                    \\n                \\n                \\n                \\n                    \\n                        \\n                        \\n                            FinData AI\\n                            \\n                                3th  December 2018\\n                                By FinData AI\\n                            \\n \\n                            An eventcreated by the Financial Industry \\n                        \\n                    \\n                \\n            \\n        \\n    \\n\\n   \\n    \\n    \\t\\n  \\n            \\n            \\t\\n                \\t\\n           \\n                    \\n\\t\\t\\t\\t\\t\\t\\n                        \\t\\n                                CONTACT US\\n                               \\n                             USA: +1 (888)  223 6742  \\n                             FAX: +1 (732) 944 0769 \\n                                                       UK: +44 7508 870680\\n                             India: +91 9849 8676 04\\n                             info@exafluence.com\\n                             www.exafluence.com\\n                            \\n                            \\n                     \\n                                \\n                                   \\n                            \\n                            \\n                            \\n                                \\n                            \\n\\t\\t\\t\\t\\t\\t\\n\\t\\t\\t\\t\\t\\n\\t\\t\\t\\t\\t\\n\\t\\t\\t\\t\\t\\n                    \\n\\t\\t\\t\\t\\t\\t\\n\\t\\t\\t\\t\\t\\t\\t\\n\\t\\t\\t\\t\\t\\t\\t\\tUSA ADDRESS\\n                                \\n                                    \\n                                       \\n                             Exafluence Inc ,#5 independence way,Suite #300, Princeton,NJ,08540 \\n                           \\n                   UK ADDRESS \\n                   \\n                          9-10 Queens Square,High Wycombe,HP11 2DF         \\n                    \\n                    \\n                    \\n                                    \\n                                    \\n                                    \\n                                    \\n                                \\n\\t\\t\\t\\t\\t\\t\\t\\t\\n\\t\\t\\t\\t\\t\\t\\n\\t\\t\\t\\t\\t\\n                    \\n                       \\n\\t\\t\\t\\t\\t\\t\\n\\t\\t\\t\\t\\t\\t\\t\\n\\t\\t\\t\\t\\t\\t\\t\\tINDIA ADDRESS\\n                                \\n                                    \\n                                       \\n                             # 201 , Ecco Greens DesignatedTechnology Park, Govt of AP,Upadhyaya Nagar,Tirupati-517 507 \\n                            \\n                             #4.26 , 21, 80 feet RoadIndira Nagar, Bangalore -560038\\n                           \\n                          \\n                    \\n                    \\n                    \\n                                    \\n                                    \\n                                    \\n                                    \\n                                \\n\\t\\t\\t\\t\\t\\t\\t\\t\\n\\t\\t\\t\\t\\t\\t\\n\\t\\t\\t\\t\\t\\n\\t\\t\\t\\t\\t\\n\\t\\t\\t\\t\\n\\t\\t\\t\\t\\t\\n\\t\\t\\t\\t\\n                \\n\\t\\t\\t\\n\\t\\t\\n\\t\\t\\n\\t\\n\\t\\t\\t\\t\\t\\t\\n            \\n            \\tCopyright © 2020 Exafluence . All Rights Reserved. Privacy Policy\\n            \\t\\n\\t\\t\\t\\n\\t\\t\\n\\t\\t\\n\\t\\t\\n\\t\\t\\n\\t\\n\\t\\n\\n\\n\\n\\n\\n\\n\\n\\n\\n\\n\\n\\n\\n\\n\\n\\n\\n\\n\\n$(document).ready(function(){\\n$(\".close\").on(\"click\",function(){\\n$(\"#myModal\").hide();\\n})\\n});\\n\\n\\n\\n\\n$(function(){\\n  $(\\'.profile_container\\').on(\\'click\\', function(e){\\n    var $biginfo = $(\\'#teamcontent\\');\\n    var $bigname = $(\\'#bigname\\');\\n    var $bigjob  = $(\\'#bigjob\\');\\n    var $bigdesc = $(\\'#bigdesc\\');\\n    var $bigimg  = $(\\'.bigimg\\');  \\n    \\n    var newimg  = $(this).find(\\'.profilepic\\').attr(\\'src\\');\\n    var newname = $(this).find(\\'.profilepic\\').attr(\\'alt\\');\\n    var newrole = $(this).siblings(\\'.job\\').eq(0).html();\\n    var newdesc = $(this).siblings(\\'.desc\\').eq(0).html();\\n    \\n    $bigimg.css(\\'background-image\\', \"url(\" + newimg + \")\");\\n    $bigname.html(newname);\\n    $bigjob.html(newrole);\\n    $bigdesc.html(newdesc);\\n    \\n    if($biginfo.css(\\'display\\') == \\'none\\') {\\n      $biginfo.slideDown(350);\\n    }\\n      \\n    $(\\'html, body\\').animate({ scrollTop: $(\\'.team_box\\').offset().top }, \\'slow\\');  \\n  });\\n});\\n    \\n$(document).ready(function(){\\n  $(\"a\").on(\\'click\\', function(event) {\\n    if (this.hash !== \"\") {\\n      event.preventDefault();\\n        \\n      var hash = this.hash;\\n\\n      $(\\'html, body\\').animate({\\n        scrollTop: $(hash).offset().top\\n      }, 800, function(){\\n   \\n        window.location.hash = hash;\\n      });\\n    } \\n  });\\n});\\n\\n\\n\\n\\n\\n\"use strict\";\\n\\n!function() {\\nvar t = window.driftt = window.drift = window.driftt || [];\\nif (!t.init) {\\nif (t.invoked) return void (window.console && console.error && console.error(\"Drift snippet included twice.\"));\\nt.invoked = !0, t.methods = [ \"identify\", \"config\", \"track\", \"reset\", \"debug\", \"show\", \"ping\", \"page\", \"hide\", \"off\", \"on\" ], \\nt.factory = function(e) {\\nreturn function() {\\nvar n = Array.prototype.slice.call(arguments);\\nreturn n.unshift(e), t.push(n), t;\\n};\\n}, t.methods.forEach(function(e) {\\nt[e] = t.factory(e);\\n}), t.load = function(t) {\\nvar e = 3e5, n = Math.ceil(new Date() / e) * e, o = document.createElement(\"script\");\\no.type = \"text/javascript\", o.async = !0, o.crossorigin = \"anonymous\", o.src = \"https://js.driftt.com/include/\" + n + \"/\" + t + \".js\";\\nvar i = document.getElementsByTagName(\"script\")[0];\\ni.parentNode.insertBefore(o, i);\\n};\\n}\\n}();\\ndrift.SNIPPET_VERSION = \\'0.3.1\\';\\ndrift.load(\\'rwc6fadsdp8f\\');\\n\\n\\n\\n\\n\\n\\n'"
      ]
     },
     "execution_count": 29,
     "metadata": {},
     "output_type": "execute_result"
    }
   ],
   "source": [
    "striphtml(res.content.decode())"
   ]
  },
  {
   "cell_type": "code",
   "execution_count": 61,
   "metadata": {},
   "outputs": [
    {
     "data": {
      "text/plain": [
       "['https://fonts.googleapis.com',\n",
       " 'https://code.jquery.com',\n",
       " 'https://maxcdn.bootstrapcdn.com',\n",
       " 'https://cdnjs.cloudflare.com',\n",
       " 'https://ajax.googleapis.com',\n",
       " 'https://exfhealth.io',\n",
       " 'https://exfinsights.com',\n",
       " 'https://www.revassurant.com',\n",
       " 'https://www.analyticsconnect.info',\n",
       " 'https://www.facebook.com',\n",
       " 'https://twitter.com',\n",
       " 'https://www.linkedin.com',\n",
       " 'https://www.instagram.com',\n",
       " 'https://healthcare.mytechmag.com',\n",
       " 'https://www.facebook.com',\n",
       " 'https://twitter.com',\n",
       " 'https://www.linkedin.com',\n",
       " 'https://www.instagram.com',\n",
       " 'https://js.driftt.com']"
      ]
     },
     "execution_count": 61,
     "metadata": {},
     "output_type": "execute_result"
    }
   ],
   "source": [
    "a = re.findall('http[s]?://(?:[a-zA-Z]|[0-9]|[.&+]|[!*\\(\\),]|(?:%[0-9a-fA-F][0-9a-fA-F]))+',res.content.decode())\n",
    "a"
   ]
  },
  {
   "cell_type": "code",
   "execution_count": 67,
   "metadata": {},
   "outputs": [
    {
     "name": "stdout",
     "output_type": "stream",
     "text": [
      "https://fonts.googleapis.com/css?family=Roboto:300,400,500,700,900&amp;display=swap\n",
      "https://code.jquery.com/jquery-1.12.0.min.js\n",
      "https://maxcdn.bootstrapcdn.com/bootstrap/3.3.7/js/bootstrap.min.js\n",
      "https://cdnjs.cloudflare.com/ajax/libs/font-awesome/4.7.0/css/font-awesome.min.css\n",
      "https://ajax.googleapis.com/ajax/libs/jquery/3.5.1/jquery.min.js\n",
      "https://exfhealth.io\n",
      "['ravi@exafluence.com', 'jonathanwitt@exafluence.com', 'rohit@exafluence.com', 'info@exafluence.com']\n",
      "['info@exafluence.com', 'info@exafluence.com']\n",
      "https://www.analyticsconnect.info/\n",
      "https://www.facebook.com/Exafluence-Inc-550298208662386/\n",
      "[]\n",
      "https://www.linkedin.com/company/exafluence\n",
      "https://www.instagram.com/exafluence/\n",
      "https://healthcare.mytechmag.com/vendor/2020/exafluence.html\n",
      "https://www.facebook.com/Exafluence-Inc-550298208662386/\n",
      "[]\n",
      "https://www.linkedin.com/company/exafluence\n",
      "https://www.instagram.com/exafluence/\n",
      "[]\n"
     ]
    }
   ],
   "source": [
    "for url in a:\n",
    "    try:\n",
    "        res = requests.get(url)\n",
    "        lst = re.findall('\\S+@\\S+', striphtml(res.content.decode()))\n",
    "        print(lst)\n",
    "    except:\n",
    "        print(url)"
   ]
  },
  {
   "cell_type": "code",
   "execution_count": 65,
   "metadata": {},
   "outputs": [
    {
     "data": {
      "text/plain": [
       "['https://fonts.googleapis.com/css?family=Roboto:300,400,500,700,900&amp;display=swap',\n",
       " 'https://code.jquery.com/jquery-1.12.0.min.js',\n",
       " 'https://maxcdn.bootstrapcdn.com/bootstrap/3.3.7/js/bootstrap.min.js',\n",
       " 'https://cdnjs.cloudflare.com/ajax/libs/font-awesome/4.7.0/css/font-awesome.min.css',\n",
       " 'https://ajax.googleapis.com/ajax/libs/jquery/3.5.1/jquery.min.js',\n",
       " 'https://exfhealth.io',\n",
       " 'https://exfinsights.com',\n",
       " 'https://www.revassurant.com',\n",
       " 'https://www.analyticsconnect.info/',\n",
       " 'https://www.facebook.com/Exafluence-Inc-550298208662386/',\n",
       " 'https://twitter.com/ExafluenceInc',\n",
       " 'https://www.linkedin.com/company/exafluence',\n",
       " 'https://www.instagram.com/exafluence/',\n",
       " 'https://healthcare.mytechmag.com/vendor/2020/exafluence.html',\n",
       " 'https://www.facebook.com/Exafluence-Inc-550298208662386/',\n",
       " 'https://twitter.com/ExafluenceInc',\n",
       " 'https://www.linkedin.com/company/exafluence',\n",
       " 'https://www.instagram.com/exafluence/',\n",
       " 'https://js.driftt.com/include/']"
      ]
     },
     "execution_count": 65,
     "metadata": {},
     "output_type": "execute_result"
    }
   ],
   "source": [
    "a = re.findall('http[s]?://(?:[a-zA-Z]|[0-9]|[$-_.&+]|[!*\\(\\),]|(?:%[0-9a-fA-F][0-9a-fA-F]))+',res.content.decode())\n",
    "a"
   ]
  },
  {
   "cell_type": "code",
   "execution_count": 81,
   "metadata": {},
   "outputs": [
    {
     "name": "stdout",
     "output_type": "stream",
     "text": [
      "['customerservice@fincarebank.com']\n"
     ]
    }
   ],
   "source": [
    "try:\n",
    "    res = requests.get('https://www.fincarebank.com/contact-us')\n",
    "    lst = re.findall('\\S+@+'+obj.domain+'+\\S+', striphtml(res.content.decode()))\n",
    "    print(lst)\n",
    "except:\n",
    "    print(url)"
   ]
  },
  {
   "cell_type": "code",
   "execution_count": 1,
   "metadata": {},
   "outputs": [
    {
     "ename": "TldBadUrl",
     "evalue": "Is not a valid URL live.ca!",
     "output_type": "error",
     "traceback": [
      "\u001b[1;31m---------------------------------------------------------------------------\u001b[0m",
      "\u001b[1;31mTldBadUrl\u001b[0m                                 Traceback (most recent call last)",
      "\u001b[1;32m<ipython-input-1-f86d29b84b72>\u001b[0m in \u001b[0;36m<module>\u001b[1;34m\u001b[0m\n\u001b[0;32m      2\u001b[0m \u001b[1;32mfrom\u001b[0m \u001b[0mtld\u001b[0m \u001b[1;32mimport\u001b[0m \u001b[0mget_tld\u001b[0m\u001b[1;33m\u001b[0m\u001b[1;33m\u001b[0m\u001b[0m\n\u001b[0;32m      3\u001b[0m \u001b[1;32mfor\u001b[0m \u001b[0murl\u001b[0m \u001b[1;32min\u001b[0m \u001b[0ma\u001b[0m\u001b[1;33m:\u001b[0m\u001b[1;33m\u001b[0m\u001b[1;33m\u001b[0m\u001b[0m\n\u001b[1;32m----> 4\u001b[1;33m     \u001b[0minfo\u001b[0m \u001b[1;33m=\u001b[0m \u001b[0mget_tld\u001b[0m\u001b[1;33m(\u001b[0m\u001b[0murl\u001b[0m\u001b[1;33m,\u001b[0m \u001b[0mas_object\u001b[0m\u001b[1;33m=\u001b[0m\u001b[1;32mTrue\u001b[0m\u001b[1;33m)\u001b[0m\u001b[1;33m\u001b[0m\u001b[1;33m\u001b[0m\u001b[0m\n\u001b[0m\u001b[0;32m      5\u001b[0m     \u001b[1;32mif\u001b[0m \u001b[0minfo\u001b[0m\u001b[1;33m.\u001b[0m\u001b[0mparsed_url\u001b[0m\u001b[1;33m[\u001b[0m\u001b[1;36m1\u001b[0m\u001b[1;33m]\u001b[0m \u001b[1;32min\u001b[0m \u001b[0mSOCIAL_URL_LIST\u001b[0m\u001b[1;33m:\u001b[0m\u001b[1;33m\u001b[0m\u001b[1;33m\u001b[0m\u001b[0m\n\u001b[0;32m      6\u001b[0m         \u001b[0mprint\u001b[0m\u001b[1;33m(\u001b[0m\u001b[1;34m\"Net Loc: \"\u001b[0m\u001b[1;33m,\u001b[0m \u001b[0minfo\u001b[0m\u001b[1;33m.\u001b[0m\u001b[0mparsed_url\u001b[0m\u001b[1;33m[\u001b[0m\u001b[1;36m1\u001b[0m\u001b[1;33m]\u001b[0m\u001b[1;33m+\u001b[0m\u001b[0minfo\u001b[0m\u001b[1;33m.\u001b[0m\u001b[0mparsed_url\u001b[0m\u001b[1;33m[\u001b[0m\u001b[1;36m2\u001b[0m\u001b[1;33m]\u001b[0m\u001b[1;33m)\u001b[0m\u001b[1;33m\u001b[0m\u001b[1;33m\u001b[0m\u001b[0m\n",
      "\u001b[1;32mc:\\users\\jeeva\\documents\\py_projects\\general\\lib\\site-packages\\tld\\utils.py\u001b[0m in \u001b[0;36mget_tld\u001b[1;34m(url, fail_silently, as_object, fix_protocol, search_public, search_private, parser_class)\u001b[0m\n\u001b[0;32m    494\u001b[0m         \u001b[0msearch_public\u001b[0m\u001b[1;33m=\u001b[0m\u001b[0msearch_public\u001b[0m\u001b[1;33m,\u001b[0m\u001b[1;33m\u001b[0m\u001b[1;33m\u001b[0m\u001b[0m\n\u001b[0;32m    495\u001b[0m         \u001b[0msearch_private\u001b[0m\u001b[1;33m=\u001b[0m\u001b[0msearch_private\u001b[0m\u001b[1;33m,\u001b[0m\u001b[1;33m\u001b[0m\u001b[1;33m\u001b[0m\u001b[0m\n\u001b[1;32m--> 496\u001b[1;33m         \u001b[0mparser_class\u001b[0m\u001b[1;33m=\u001b[0m\u001b[0mparser_class\u001b[0m\u001b[1;33m\u001b[0m\u001b[1;33m\u001b[0m\u001b[0m\n\u001b[0m\u001b[0;32m    497\u001b[0m     )\n\u001b[0;32m    498\u001b[0m \u001b[1;33m\u001b[0m\u001b[0m\n",
      "\u001b[1;32mc:\\users\\jeeva\\documents\\py_projects\\general\\lib\\site-packages\\tld\\utils.py\u001b[0m in \u001b[0;36mprocess_url\u001b[1;34m(url, fail_silently, fix_protocol, search_public, search_private, parser_class)\u001b[0m\n\u001b[0;32m    324\u001b[0m             \u001b[1;32mreturn\u001b[0m \u001b[1;32mNone\u001b[0m\u001b[1;33m,\u001b[0m \u001b[1;32mNone\u001b[0m\u001b[1;33m,\u001b[0m \u001b[0mparsed_url\u001b[0m\u001b[1;33m\u001b[0m\u001b[1;33m\u001b[0m\u001b[0m\n\u001b[0;32m    325\u001b[0m         \u001b[1;32melse\u001b[0m\u001b[1;33m:\u001b[0m\u001b[1;33m\u001b[0m\u001b[1;33m\u001b[0m\u001b[0m\n\u001b[1;32m--> 326\u001b[1;33m             \u001b[1;32mraise\u001b[0m \u001b[0mTldBadUrl\u001b[0m\u001b[1;33m(\u001b[0m\u001b[0murl\u001b[0m\u001b[1;33m=\u001b[0m\u001b[0murl\u001b[0m\u001b[1;33m)\u001b[0m\u001b[1;33m\u001b[0m\u001b[1;33m\u001b[0m\u001b[0m\n\u001b[0m\u001b[0;32m    327\u001b[0m \u001b[1;33m\u001b[0m\u001b[0m\n\u001b[0;32m    328\u001b[0m     \u001b[1;31m# This will correctly handle dots at the end of domain name in URLs like\u001b[0m\u001b[1;33m\u001b[0m\u001b[1;33m\u001b[0m\u001b[1;33m\u001b[0m\u001b[0m\n",
      "\u001b[1;31mTldBadUrl\u001b[0m: Is not a valid URL live.ca!"
     ]
    }
   ],
   "source": [
    "a = ['live.ca']\n",
    "from tld import get_tld\n",
    "for url in a:\n",
    "    info = get_tld(url, as_object=True)\n",
    "    if info.parsed_url[1] in SOCIAL_URL_LIST:\n",
    "        print(\"Net Loc: \", info.parsed_url[1]+info.parsed_url[2])\n",
    "    elif info.parsed_url[1] not in BLOCK_URL_LIST:\n",
    "        print(\"Net Loc: \", info.parsed_url[1])"
   ]
  },
  {
   "cell_type": "code",
   "execution_count": 73,
   "metadata": {},
   "outputs": [],
   "source": [
    "SOCIAL_URL_LIST=['twitter.com','www.instagram.com','www.linkedin.com','www.facebook.com']\n",
    "BLOCK_URL_LIST=['js.driftt.com','ajax.googleapis.com','code.jquery.com','maxcdn.bootstrapcdn.com','fonts.googleapis.com','cdnjs.cloudflare.com']"
   ]
  },
  {
   "cell_type": "code",
   "execution_count": 2,
   "metadata": {},
   "outputs": [],
   "source": [
    "import requests, re\n",
    "from tld import get_tld\n",
    "from googlesearch import search\n",
    "import urllib.request\n",
    "\n",
    "SOCIAL_URL_LIST=['twitter','instagram','linkedin','facebook','google','apple']\n",
    "BLOCK_URL_LIST=['driftt','googleapis','jquery','bootstrapcdn','cloudflare','xmlns','schema','w3','rdfs']\n",
    "\n",
    "def striphtml(data):\n",
    "    p = re.compile(r'<.*?>')\n",
    "    return p.sub('', data)\n",
    "\n",
    "class email_finder():\n",
    "    def __init__(self, url):\n",
    "        self.url = None\n",
    "        if \"http\" in url:\n",
    "            info = get_tld(url, as_object=True)\n",
    "            self.domain = info.domain\n",
    "            self.domain_ext = info.fld\n",
    "            try:\n",
    "                status = urllib.request.urlopen(url).getcode()\n",
    "                if status == 200:\n",
    "                    self.url = url\n",
    "            except:\n",
    "                self.url = None\n",
    "            if self.url == None:\n",
    "                url_list = list(search(\"'\"+self.domain+\"'\", tld=\"com\", num=5, stop=10, pause=2))\n",
    "                if len(url_list) > 0:\n",
    "                    if self.domain in url_list[0]:\n",
    "                        self.url=url_list[0]\n",
    "        else:\n",
    "            url_list = list(search(\"site:\"+url, tld=\"com\", num=5, stop=10, pause=2))\n",
    "            if len(url_list) > 0:\n",
    "                temp_url = url_list[0]\n",
    "                try:\n",
    "                    status = urllib.request.urlopen(temp_url).getcode()\n",
    "                    if status == 200:\n",
    "                        self.url = temp_url\n",
    "                except:\n",
    "                    self.url = None\n",
    "            if self.url == None:\n",
    "                domain_name = url.split('.')[0]\n",
    "                url_list = list(search(\"'\"+domain_name+\"'\", tld=\"com\", num=5, stop=10, pause=2))\n",
    "                if len(url_list) > 0:\n",
    "                    if domain_name in url_list[0]:\n",
    "                        self.url=url_list[0]\n",
    "            info = get_tld(self.url, as_object=True)\n",
    "            self.domain = info.domain\n",
    "            self.domain_ext = info.fld\n",
    "        self.email_list = []\n",
    "        \n",
    "    def find(self):\n",
    "        if self.url != None:\n",
    "            res = requests.get(self.url)\n",
    "            self.email_list += re.findall('\\S+@+'+self.domain+'+\\S+', striphtml(res.content.decode()))\n",
    "            URLS = re.findall('http[s]?://(?:[a-zA-Z]|[0-9]|[$-_.&+]|[!*\\(\\),]|(?:%[0-9a-fA-F][0-9a-fA-F]))+',res.content.decode())\n",
    "            for url in URLS:\n",
    "                try:\n",
    "                    info = get_tld(url, as_object=True)\n",
    "                    if info.domain not in BLOCK_URL_LIST+SOCIAL_URL_LIST:\n",
    "                        #print(\"Net Loc: \", info.parsed_url[1],\" : \",self.domain)\n",
    "                        try:\n",
    "                            res = requests.get(info.parsed_url[0]+\"://\"+info.parsed_url[1]+info.parsed_url[2])\n",
    "                            self.email_list += re.findall('\\S+@+'+self.domain+'+\\S+', striphtml(res.content.decode()))\n",
    "                        except:\n",
    "                            self.email_list += []\n",
    "                except:\n",
    "                    print(url)\n",
    "            self.email_list = list(set(self.email_list))"
   ]
  },
  {
   "cell_type": "code",
   "execution_count": 3,
   "metadata": {},
   "outputs": [],
   "source": [
    "obj = email_finder(\"exafluence\")"
   ]
  },
  {
   "cell_type": "code",
   "execution_count": 4,
   "metadata": {},
   "outputs": [],
   "source": [
    "obj.find()"
   ]
  },
  {
   "cell_type": "code",
   "execution_count": 5,
   "metadata": {},
   "outputs": [
    {
     "data": {
      "text/plain": [
       "['info@exafluence.com',\n",
       " 'rohit@exafluence.com',\n",
       " 'jonathanwitt@exafluence.com',\n",
       " 'ravi@exafluence.com']"
      ]
     },
     "execution_count": 5,
     "metadata": {},
     "output_type": "execute_result"
    }
   ],
   "source": [
    "obj.email_list"
   ]
  },
  {
   "cell_type": "code",
   "execution_count": 89,
   "metadata": {},
   "outputs": [
    {
     "data": {
      "text/plain": [
       "[]"
      ]
     },
     "execution_count": 89,
     "metadata": {},
     "output_type": "execute_result"
    }
   ],
   "source": [
    "obj = email_finder(\"https://www.iguazio.com/\")\n",
    "obj.find()\n",
    "obj.email_list"
   ]
  },
  {
   "cell_type": "code",
   "execution_count": null,
   "metadata": {},
   "outputs": [],
   "source": []
  },
  {
   "cell_type": "code",
   "execution_count": 74,
   "metadata": {},
   "outputs": [],
   "source": [
    "res = requests.get('https://fincarebank.com/')"
   ]
  },
  {
   "cell_type": "code",
   "execution_count": 75,
   "metadata": {},
   "outputs": [
    {
     "data": {
      "text/plain": [
       "['http://purl.org/rss/1.0/modules/content/',\n",
       " 'http://purl.org/dc/terms/',\n",
       " 'http://xmlns.com/foaf/0.1/',\n",
       " 'http://ogp.me/ns',\n",
       " 'http://www.w3.org/2000/01/rdf-schema',\n",
       " 'http://schema.org/',\n",
       " 'http://rdfs.org/sioc/ns',\n",
       " 'http://rdfs.org/sioc/types',\n",
       " 'http://www.w3.org/2004/02/skos/core',\n",
       " 'http://www.w3.org/2001/XMLSchema',\n",
       " 'https://fincarebank.com/',\n",
       " 'https://fincarebank.com/',\n",
       " 'https://www.drupal.org)',\n",
       " 'https://fincarebank.com/home-page',\n",
       " 'https://fincarebank.com/',\n",
       " 'https://www.fincarebank.com/savings-account',\n",
       " 'https://www.fincarebank.com/current-account',\n",
       " 'https://www.fincarebank.com/fixed-deposit',\n",
       " 'https://www.fincarebank.com/recurring-deposit',\n",
       " 'https://www.fincarebank.com/nri-banking',\n",
       " 'https://www.fincarebank.com/loan-against-property',\n",
       " 'https://www.fincarebank.com/affordable-housing-loan',\n",
       " 'https://www.fincarebank.com/gold-loans',\n",
       " 'https://www.fincarebank.com/micro-loans',\n",
       " 'https://www.fincarebank.com/institutional-finance',\n",
       " 'https://www.fincarebank.com/about-us',\n",
       " 'https://www.fincarebank.com/board-directors',\n",
       " 'https://www.fincarebank.com/leadership-team',\n",
       " 'https://www.fincarebank.com/investors-relations',\n",
       " 'https://www.fincarebank.com/careers',\n",
       " 'https://www.fincarebank.com/news',\n",
       " 'https://www.fincarebank.com/branch_network.php',\n",
       " 'https://www.fincarebank.com/channels-banking',\n",
       " 'https://www.fincarebank.com/forms-centre',\n",
       " 'https://www.fincarebank.com/interest-rate',\n",
       " 'https://www.fincarebank.com/charges-and-fees',\n",
       " 'https://www.fincarebank.com/complaints-and-grievances-form',\n",
       " 'https://www.fincarebank.com/regulatory',\n",
       " 'https://fincarebank.com/moratorium/m-faq.html',\n",
       " 'https://fincarebank.com/moratorium/consent-form.html',\n",
       " 'https://www.fincarebank.com/contact-us',\n",
       " 'https://ib.fincarebank.com/RIB/',\n",
       " 'https://cib.fincarebank.com/',\n",
       " 'https://fincarebank.com/whatsapp-banking.html',\n",
       " 'https://rewards.fincarebank.com/',\n",
       " 'https://www.fincarebank.com/branch_network.php',\n",
       " 'https://rewards.fincarebank.com/',\n",
       " 'https://fincarebank.com/moratorium/consent-form.html',\n",
       " 'https://www.fincarebank.com/nri-banking',\n",
       " 'https://101.fincarebank.com/',\n",
       " 'https://101.fincarebank.com/',\n",
       " 'https://www.fincarebank.com/lead_forms/leads.php?product=22',\n",
       " 'https://www.fincarebank.com/lead_forms/index.php?product=24',\n",
       " 'https://www.fincarebank.com/lead_forms/leads.php?product=1',\n",
       " 'https://www.fincarebank.com/lead_forms/leads.php?product=3',\n",
       " 'https://play.google.com/store/apps/details?id=com.fincare.mb',\n",
       " 'https://itunes.apple.com/us/app/fincare-mobile-banking/id1286645133?mt=8',\n",
       " 'https://ib.fincarebank.com/RIB/',\n",
       " 'https://www.fincarebank.com/channels-banking',\n",
       " 'https://www.fincarebank.com/branch_network.php',\n",
       " 'https://www.fincarebank.com/channels-banking',\n",
       " 'https://www.fincarebank.com/channels-banking',\n",
       " 'https://www.fincarebank.com/branch_network.php',\n",
       " 'https://www.expresscomputer.in/news/software-defined-environment-enables-fincare-small-finance-bank-to-provide-customer-delight/50835/',\n",
       " 'https://fincarebank.com/pdf/news-june-11.pdf',\n",
       " 'https://www.businessonlive.com/banking-news/46889',\n",
       " 'https://www.businesstoday.in/prnewswire/?rkey=20190416enIN201904167909_indiapublic&amp;filter=2418',\n",
       " 'https://www.business-standard.com/article/companies/edelweiss-tokio-life-insurance-ties-up-with-fincare-small-finance-bank-118080300047_1.html',\n",
       " 'https://economictimes.indiatimes.com/industry/banking/finance/fincare-sfb-aims-at-rs-12500-cr-loan-book-by-fy21/articleshow/65040596.cms',\n",
       " 'https://www.fincarebank.com/branch_network.php',\n",
       " 'https://www.fincarebank.com/complaints-and-grievances-form',\n",
       " 'https://www.fincarebank.com/sites/default/files/2019-01/Website%20Privacy%20Policy.pdf',\n",
       " 'https://www.fincarebank.com/charges-and-fees',\n",
       " 'https://www.fincarebank.com/sites/default/files/2020-02/Nodal-Officer-Details.pdf',\n",
       " 'https://blog.fincarebank.com/',\n",
       " 'https://www.fincarebank.com/Commercial-Scheduled-Bank.jpg',\n",
       " \"https://connect.facebook.net/en_US/fbevents.js');\",\n",
       " 'https://www.facebook.com/tr?id=1777642888951591&amp;ev=PageView&',\n",
       " \"https://chat.quickwork.co';\",\n",
       " 'https://twitter.com/fincarebank?lang=en',\n",
       " 'https://www.facebook.com/FincareBank/',\n",
       " 'https://plus.google.com/+Fincare',\n",
       " 'https://www.linkedin.com/company/fincarebank/',\n",
       " 'https://play.google.com/store/apps/details?id=com.fincare.mb',\n",
       " 'https://itunes.apple.com/us/app/fincare-mobile-banking/id1286645133?mt=8']"
      ]
     },
     "execution_count": 75,
     "metadata": {},
     "output_type": "execute_result"
    }
   ],
   "source": [
    "URLS = re.findall('http[s]?://(?:[a-zA-Z]|[0-9]|[$-_.&+]|[!*\\(\\),]|(?:%[0-9a-fA-F][0-9a-fA-F]))+',res.content.decode())\n",
    "URLS"
   ]
  },
  {
   "cell_type": "code",
   "execution_count": null,
   "metadata": {},
   "outputs": [],
   "source": []
  },
  {
   "cell_type": "code",
   "execution_count": null,
   "metadata": {},
   "outputs": [],
   "source": []
  },
  {
   "cell_type": "code",
   "execution_count": 82,
   "metadata": {},
   "outputs": [
    {
     "data": {
      "text/plain": [
       "['jeevan@exafluence.co.in', 'ravi@exafluence.com']"
      ]
     },
     "execution_count": 82,
     "metadata": {},
     "output_type": "execute_result"
    }
   ],
   "source": [
    "re.findall(\"\\S+@+exafluence+\\S+\",\"jeevan@exafluence.co.in jeevan@gmail.com ravi@exafluence.com\")"
   ]
  },
  {
   "cell_type": "code",
   "execution_count": 86,
   "metadata": {},
   "outputs": [],
   "source": [
    "info = get_tld(\"https://exafluence.co.in\", as_object=True)"
   ]
  },
  {
   "cell_type": "code",
   "execution_count": 85,
   "metadata": {},
   "outputs": [
    {
     "data": {
      "text/plain": [
       "'exafluence'"
      ]
     },
     "execution_count": 85,
     "metadata": {},
     "output_type": "execute_result"
    }
   ],
   "source": [
    "info.domain"
   ]
  },
  {
   "cell_type": "code",
   "execution_count": 91,
   "metadata": {},
   "outputs": [
    {
     "name": "stdout",
     "output_type": "stream",
     "text": [
      "error\n"
     ]
    }
   ],
   "source": [
    "try:\n",
    "    res = requests.get(\"http://exafluence.co.in\")\n",
    "except:\n",
    "    print(\"error\")"
   ]
  },
  {
   "cell_type": "code",
   "execution_count": 28,
   "metadata": {},
   "outputs": [
    {
     "data": {
      "text/plain": [
       "['http://www.exafluence.co.in/',\n",
       " 'https://www.linkedin.com/company/exafluence',\n",
       " 'https://www.glassdoor.co.in/Overview/Working-at-Exafluence-EI_IE1908237.11,21.htm',\n",
       " 'https://www.zaubacorp.com/company/EXAFLUENCE-PRIVATE-LIMITED/U74900KA2016PTC086305',\n",
       " 'https://www.crunchbase.com/organization/exafluence',\n",
       " 'https://www.indeed.co.in/cmp/Exafluence-Pvt-Ltd-1/reviews',\n",
       " 'https://www.naukri.com/exafluence-pvt-ltd-recruiters',\n",
       " 'https://www.exafluence.com/casestudies.html',\n",
       " 'https://www.exafluence.com/news-and-events.html',\n",
       " 'https://www.zoominfo.com/c/exafluence-inc/371104660']"
      ]
     },
     "execution_count": 28,
     "metadata": {},
     "output_type": "execute_result"
    }
   ],
   "source": [
    "list(search(\"'\"+\"exafluence.co.in\"+\"'\", tld=\"com\", num=5, stop=10, pause=2))"
   ]
  },
  {
   "cell_type": "code",
   "execution_count": 17,
   "metadata": {},
   "outputs": [
    {
     "name": "stdout",
     "output_type": "stream",
     "text": [
      "https://www.exafluence.com/\n",
      "https://www.linkedin.com/company/exafluence\n",
      "https://www.glassdoor.co.in/Overview/Working-at-Exafluence-EI_IE1908237.11,21.htm\n",
      "https://www.crunchbase.com/organization/exafluence\n",
      "https://www.zaubacorp.com/company/EXAFLUENCE-PRIVATE-LIMITED/U74900KA2016PTC086305\n",
      "https://www.indeed.co.in/cmp/Exafluence-Pvt-Ltd-1/reviews?fcountry=IN&floc=Tirupati%2C+Andhra+Pradesh\n",
      "https://www.dice.com/company/90962729\n",
      "https://www.naukri.com/exafluence-pvt-ltd-recruiters\n",
      "https://www.zoominfo.com/c/exafluence-inc/371104660\n",
      "https://www.glassdoor.com/Salary/Exafluence-Tirupati-Salaries-EI_IE1908237.0,10_IL.11,19_IC2864407.htm\n"
     ]
    }
   ],
   "source": [
    "try: \n",
    "    from googlesearch import search \n",
    "except ImportError:  \n",
    "    print(\"No module named 'google' found\") \n",
    "  \n",
    "# to search \n",
    "query = \"'exafluence'\"\n",
    "  \n",
    "for j in search(query, tld=\"co.in\", num=10, stop=10, pause=2): \n",
    "    print(j) "
   ]
  },
  {
   "cell_type": "code",
   "execution_count": null,
   "metadata": {},
   "outputs": [],
   "source": []
  },
  {
   "cell_type": "code",
   "execution_count": null,
   "metadata": {},
   "outputs": [],
   "source": []
  },
  {
   "cell_type": "code",
   "execution_count": null,
   "metadata": {},
   "outputs": [],
   "source": []
  },
  {
   "cell_type": "code",
   "execution_count": null,
   "metadata": {},
   "outputs": [],
   "source": []
  },
  {
   "cell_type": "code",
   "execution_count": null,
   "metadata": {},
   "outputs": [],
   "source": []
  },
  {
   "cell_type": "code",
   "execution_count": null,
   "metadata": {},
   "outputs": [],
   "source": []
  },
  {
   "cell_type": "code",
   "execution_count": null,
   "metadata": {},
   "outputs": [],
   "source": []
  },
  {
   "cell_type": "code",
   "execution_count": null,
   "metadata": {},
   "outputs": [],
   "source": []
  },
  {
   "cell_type": "code",
   "execution_count": 2,
   "metadata": {},
   "outputs": [],
   "source": [
    "import argparse\n",
    "import sys\n",
    "import time\n",
    "import requests\n",
    "import re\n",
    "import os\n",
    "import validators\n",
    "\n",
    "from termcolor import colored\n",
    "from argparse import RawTextHelpFormatter\n",
    "from sys import platform as _platform\n",
    "try:\n",
    "    from urllib.parse import urlparse\n",
    "except ImportError:\n",
    "    from urlparse import urlparse\n",
    "\n",
    "################################\n",
    "\n",
    "\n",
    "if _platform == 'win32':\n",
    "    import colorama\n",
    "    colorama.init()\n",
    "\n",
    "class myparser:\n",
    "    \n",
    "    def __init__(self):\n",
    "        self.temp = []\n",
    "        \n",
    "    def extract(self, results, word):\n",
    "            self.results = results\n",
    "            self.word = word\n",
    "\n",
    "    def genericClean(self):\n",
    "        for e in '''<KW> </KW> </a> <b> </b> </div> <em> </em> <p> </span>\n",
    "                    <strong> </strong> <title> <wbr> </wbr>'''.split():\n",
    "            self.results = self.results.replace(e, '')\n",
    "        for e in '%2f %3a %3A %3C %3D & / : ; < = > \\\\'.split():\n",
    "            self.results = self.results.replace(e, ' ')\n",
    "        \n",
    "    def emails(self):\n",
    "        self.genericClean()\n",
    "        reg_emails = re.compile(\n",
    "            '[a-zA-Z0-9.\\-_+#~!$&\\',;=:]+' +\n",
    "            '@' +\n",
    "            '[a-zA-Z0-9.-]*' +\n",
    "            self.word)\n",
    "        self.temp = reg_emails.findall(self.results)\n",
    "        emails = self.unique()\n",
    "        return emails\n",
    "    \n",
    "    def unique(self):\n",
    "        self.new = list(set(self.temp))\n",
    "        return self.new\n",
    "    \n",
    "###################################################################\n",
    "\n",
    "class EmailHarvester(object):\n",
    "    \n",
    "    def __init__(self, userAgent, proxy):\n",
    "        self.plugins = {}\n",
    "        self.proxy = proxy\n",
    "        self.userAgent = userAgent\n",
    "        self.parser = myparser()\n",
    "        self.activeEngine = \"None\"\n",
    "        path = \"plugins/\"\n",
    "        plugins = {}\n",
    "        \n",
    "        sys.path.insert(0, path)\n",
    "        for f in os.listdir(path):\n",
    "            fname, ext = os.path.splitext(f)\n",
    "            if ext == '.py':\n",
    "                mod = __import__(fname, fromlist=[''])\n",
    "                plugins[fname] = mod.Plugin(self, {'useragent':userAgent, 'proxy':proxy})\n",
    "    \n",
    "    def register_plugin(self, search_method, functions):\n",
    "        self.plugins[search_method] = functions\n",
    "        \n",
    "    def get_plugins(self):\n",
    "        return self.plugins\n",
    "    \n",
    "    def show_message(self, msg):\n",
    "        print(green(msg))\n",
    "        \n",
    "    def init_search(self, url, word, limit, counterInit, counterStep, engineName):\n",
    "        self.results = \"\"\n",
    "        self.totalresults = \"\"\n",
    "        self.limit = int(limit)\n",
    "        self.counter = int(counterInit)\n",
    "        self.url = url\n",
    "        self.step = int(counterStep)\n",
    "        self.word = word\n",
    "        self.activeEngine = engineName\n",
    "        \n",
    "    def do_search(self):\n",
    "        try:\n",
    "            urly = self.url.format(counter=str(self.counter), word=self.word)\n",
    "            headers = {'User-Agent': self.userAgent}\n",
    "            if(self.proxy):\n",
    "                proxies = {self.proxy.scheme: \"http://\" + self.proxy.netloc}\n",
    "                r=requests.get(urly, headers=headers, proxies=proxies)\n",
    "            else:\n",
    "                r=requests.get(urly, headers=headers)\n",
    "                \n",
    "        except Exception as e:\n",
    "            print(e)\n",
    "            sys.exit(4)\n",
    "\n",
    "        if r.encoding is None:\n",
    "\t          r.encoding = 'UTF-8'\n",
    "\n",
    "        self.results = r.content.decode(r.encoding)\n",
    "        self.totalresults += self.results\n",
    "    \n",
    "    def process(self):\n",
    "        while (self.counter < self.limit):\n",
    "            self.do_search()\n",
    "            time.sleep(1)\n",
    "            self.counter += self.step\n",
    "            print(green(\"[+] Searching in {}:\".format(self.activeEngine)) + cyan(\" {} results\".format(str(self.counter))))\n",
    "            \n",
    "    def get_emails(self):\n",
    "        self.parser.extract(self.totalresults, self.word)\n",
    "        return self.parser.emails()\n",
    "    \n",
    "###################################################################\n",
    "\n",
    "def yellow(text):\n",
    "    return colored(text, 'yellow', attrs=['bold'])\n",
    "\n",
    "def green(text):\n",
    "    return colored(text, 'green', attrs=['bold'])\n",
    "\n",
    "def red(text):\n",
    "    return colored(text, 'red', attrs=['bold'])\n",
    "\n",
    "def cyan(text):\n",
    "    return colored(text, 'cyan', attrs=['bold'])\n",
    "\n",
    "def unique(data):\n",
    "        return list(set(data))\n",
    "\n",
    "###################################################################\n",
    "\n",
    "def checkProxyUrl(url):\n",
    "    url_checked = urlparse(url)\n",
    "    if (url_checked.scheme not in ('http', 'https')) | (url_checked.netloc == ''):\n",
    "        raise argparse.ArgumentTypeError('Invalid {} Proxy URL (example: http://127.0.0.1:8080).'.format(url))\n",
    "    return url_checked\n",
    "\n",
    "def limit_type(x):\n",
    "    x = int(x)\n",
    "    if x > 0:\n",
    "        return x\n",
    "    raise argparse.ArgumentTypeError(\"Minimum results limit is 1.\")\n",
    "\n",
    "def checkDomain(value):\n",
    "    domain_checked = validators.domain(value)\n",
    "    if not domain_checked:\n",
    "        raise argparse.ArgumentTypeError('Invalid {} domain.'.format(value))\n",
    "    return value"
   ]
  },
  {
   "cell_type": "code",
   "execution_count": null,
   "metadata": {},
   "outputs": [],
   "source": []
  },
  {
   "cell_type": "code",
   "execution_count": 3,
   "metadata": {},
   "outputs": [],
   "source": [
    "userAgent = \"Mozilla/5.0 (Windows NT 6.1; WOW64; rv:40.0) Gecko/20100101 Firefox/40.1\"\n",
    "proxy = None\n",
    "app = EmailHarvester(userAgent, proxy)"
   ]
  },
  {
   "cell_type": "code",
   "execution_count": 6,
   "metadata": {},
   "outputs": [
    {
     "name": "stdout",
     "output_type": "stream",
     "text": [
      "[+] Searching in ASK: 10 results\n",
      "[+] Searching in ASK: 20 results\n",
      "[+] Searching in ASK: 30 results\n",
      "[+] Searching in ASK: 40 results\n",
      "[+] Searching in ASK: 50 results\n",
      "[+] Searching in ASK: 60 results\n",
      "[+] Searching in ASK: 70 results\n",
      "[+] Searching in ASK: 80 results\n",
      "[+] Searching in ASK: 90 results\n",
      "[+] Searching in ASK: 100 results\n",
      "Okay\n"
     ]
    }
   ],
   "source": [
    "plugins = app.get_plugins()\n",
    "\n",
    "all_emails = []\n",
    "excluded = []\n",
    "engine = \"ask\"\n",
    "domain = \"exafluence.com\"\n",
    "limit=100\n",
    "if engine == \"all\":\n",
    "    print(green(\"[+] Searching everywhere\"))\n",
    "    for search_engine in plugins:\n",
    "        if search_engine not in excluded:\n",
    "            all_emails += plugins[search_engine]['search'](domain, limit)\n",
    "elif engine not in plugins:\n",
    "    print(red(\"[-] Search engine plugin not found\"))\n",
    "    sys.exit(3)\n",
    "else:\n",
    "    all_emails = plugins[engine]['search'](domain, limit)\n",
    "    \n",
    "all_emails = unique(all_emails)\n",
    "try:\n",
    "    all_emails.remove('22@'+domain)\n",
    "    all_emails.remove('x22@'+domain)\n",
    "except:\n",
    "    print(\"Okay\")"
   ]
  },
  {
   "cell_type": "code",
   "execution_count": 7,
   "metadata": {},
   "outputs": [
    {
     "data": {
      "text/plain": [
       "['info@exafluence.com']"
      ]
     },
     "execution_count": 7,
     "metadata": {},
     "output_type": "execute_result"
    }
   ],
   "source": [
    "all_emails"
   ]
  },
  {
   "cell_type": "code",
   "execution_count": 5,
   "metadata": {},
   "outputs": [
    {
     "data": {
      "text/plain": [
       "{'ask': {'search': <function ask.search(domain, limit)>},\n",
       " 'baidu': {'search': <function baidu.search(domain, limit)>},\n",
       " 'bing': {'search': <function bing.search(domain, limit)>},\n",
       " 'dogpile': {'search': <function dogpile.search(domain, limit)>},\n",
       " 'exalead': {'search': <function exalead.search(domain, limit)>},\n",
       " 'github': {'search': <function github.search(domain, limit)>},\n",
       " 'googleplus': {'search': <function googleplus.search(domain, limit)>},\n",
       " 'googles': {'search': <function googles.search(domain, limit)>},\n",
       " 'instagram': {'search': <function instagram.search(domain, limit)>},\n",
       " 'linkedin': {'search': <function linkedin.search(domain, limit)>},\n",
       " 'reddit': {'search': <function reddit.search(domain, limit)>},\n",
       " 'twitter': {'search': <function twitter.search(domain, limit)>},\n",
       " 'yahoo': {'search': <function yahoo.search(domain, limit)>},\n",
       " 'youtube': {'search': <function youtube.search(domain, limit)>}}"
      ]
     },
     "execution_count": 5,
     "metadata": {},
     "output_type": "execute_result"
    }
   ],
   "source": [
    "plugins"
   ]
  },
  {
   "cell_type": "code",
   "execution_count": 42,
   "metadata": {},
   "outputs": [],
   "source": [
    "import re\n",
    "\n",
    "regex = \"\"\"(?:[a-z0-9!#$%&'*+/=?^_`{|}~-]+(?:\\.[a-z0-9!#$%&'*+/=?^_`{|}~-]+)*|\"(?:[\\x01-\\x08\\x0b\\x0c\\x0e-\\x1f\\x21\\x23-\\x5b\\x5d-\\x7f]|\\\\[\\x01-\\x09\\x0b\\x0c\\x0e-\\x7f])*\")@(?:(?:[a-z0-9](?:[a-z0-9-]*[a-z0-9])?\\.)+[a-z0-9](?:[a-z0-9-]*[a-z0-9])?|\\[(?:(?:25[0-5]|2[0-4][0-9]|[01]?[0-9][0-9]?)\\.){3}(?:25[0-5]|2[0-4][0-9]|[01]?[0-9][0-9]?|[a-z0-9-]*[a-z0-9]:(?:[\\x01-\\x08\\x0b\\x0c\\x0e-\\x1f\\x21-\\x5a\\x53-\\x7f]|\\\\[\\x01-\\x09\\x0b\\x0c\\x0e-\\x7f])+)\\])\"\"\"\n",
    "regex1 = r\"(^[a-zA-Z0-9_.-]+@[a-zA-Z0-9-]+\\.[a-zA-Z0-9-.]+$)\"\n",
    "def check(email):\n",
    "    if(re.search(regex1,email)):  \n",
    "        print(\"Valid Email\")  \n",
    "    else:  \n",
    "        print(\"Invalid Email\")  "
   ]
  },
  {
   "cell_type": "code",
   "execution_count": 44,
   "metadata": {},
   "outputs": [
    {
     "name": "stdout",
     "output_type": "stream",
     "text": [
      "Valid Email\n"
     ]
    }
   ],
   "source": [
    "check(\"jee@a.com\")"
   ]
  },
  {
   "cell_type": "code",
   "execution_count": null,
   "metadata": {},
   "outputs": [],
   "source": []
  }
 ],
 "metadata": {
  "kernelspec": {
   "display_name": "Python 3",
   "language": "python",
   "name": "python3"
  },
  "language_info": {
   "codemirror_mode": {
    "name": "ipython",
    "version": 3
   },
   "file_extension": ".py",
   "mimetype": "text/x-python",
   "name": "python",
   "nbconvert_exporter": "python",
   "pygments_lexer": "ipython3",
   "version": "3.6.8"
  }
 },
 "nbformat": 4,
 "nbformat_minor": 4
}
