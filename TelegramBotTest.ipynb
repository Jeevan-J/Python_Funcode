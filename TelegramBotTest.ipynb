{
 "cells": [
  {
   "cell_type": "code",
   "execution_count": null,
   "metadata": {},
   "outputs": [],
   "source": [
    "#!pip install python-telegram-bot"
   ]
  },
  {
   "cell_type": "code",
   "execution_count": null,
   "metadata": {},
   "outputs": [],
   "source": [
    "import telegram\n",
    "from binance.client import Client"
   ]
  },
  {
   "cell_type": "code",
   "execution_count": null,
   "metadata": {},
   "outputs": [],
   "source": [
    "API_KEY = os.getenv('BINANCE_API_KEY')\n",
    "API_SECRET = os.getenv('BINANCE_API_SECRET')\n",
    "TELEGRAM_API_TOKEN = os.getenv('TELEGRAM_API_TOKEN')\n",
    "\n",
    "bot = telegram.Bot(TELEGRAM_API_TOKEN)\n",
    "client = Client(API_KEY,API_SECRET)"
   ]
  },
  {
   "cell_type": "code",
   "execution_count": null,
   "metadata": {},
   "outputs": [],
   "source": [
    "print(bot.get_me())"
   ]
  },
  {
   "cell_type": "code",
   "execution_count": null,
   "metadata": {},
   "outputs": [],
   "source": [
    "from telegram.ext import Updater\n",
    "updater = Updater(token=TELEGRAM_API_TOKEN, use_context=True)"
   ]
  },
  {
   "cell_type": "code",
   "execution_count": null,
   "metadata": {},
   "outputs": [],
   "source": [
    "import logging\n",
    "logging.basicConfig(format='%(asctime)s - %(name)s - %(levelname)s - %(message)s',\n",
    "                     level=logging.INFO)"
   ]
  },
  {
   "cell_type": "code",
   "execution_count": null,
   "metadata": {},
   "outputs": [],
   "source": [
    "def start(update, context):\n",
    "    context.bot.send_message(chat_id=update.effective_chat.id, text=\"I'm a bot, please talk to me!\")"
   ]
  },
  {
   "cell_type": "code",
   "execution_count": null,
   "metadata": {},
   "outputs": [],
   "source": [
    "from telegram.ext import CommandHandler\n",
    "dispatcher = updater.dispatcher\n",
    "start_handler = CommandHandler('start', start)\n",
    "dispatcher.add_handler(start_handler)"
   ]
  },
  {
   "cell_type": "code",
   "execution_count": null,
   "metadata": {},
   "outputs": [],
   "source": [
    "from datetime import datetime as dt\n",
    "dt.now()"
   ]
  },
  {
   "cell_type": "code",
   "execution_count": null,
   "metadata": {},
   "outputs": [],
   "source": [
    "client.futures_create_order(symbol=\"ETHUSDT\", side=\"SELL\",type=\"LIMIT\",timeInForce=\"GTC\",quantity=0.01,price=326,timestamp=dt.now())"
   ]
  },
  {
   "cell_type": "code",
   "execution_count": null,
   "metadata": {},
   "outputs": [],
   "source": []
  },
  {
   "cell_type": "code",
   "execution_count": null,
   "metadata": {},
   "outputs": [],
   "source": []
  },
  {
   "cell_type": "code",
   "execution_count": null,
   "metadata": {},
   "outputs": [],
   "source": []
  },
  {
   "cell_type": "code",
   "execution_count": null,
   "metadata": {},
   "outputs": [],
   "source": [
    "def echo(update, context):\n",
    "    context.bot.send_message(chat_id=update.effective_chat.id, text=update.message.text)\n",
    "\n",
    "from telegram.ext import MessageHandler, Filters\n",
    "echo_handler = MessageHandler(Filters.text & (~Filters.command), echo)\n",
    "dispatcher.add_handler(echo_handler)"
   ]
  },
  {
   "cell_type": "code",
   "execution_count": null,
   "metadata": {},
   "outputs": [],
   "source": [
    "j = updater.job_queue"
   ]
  },
  {
   "cell_type": "code",
   "execution_count": null,
   "metadata": {},
   "outputs": [],
   "source": [
    "LIMITS = dict({'TRXUSDT':[0.01890,0.01920]})\n",
    "TEST = False"
   ]
  },
  {
   "cell_type": "code",
   "execution_count": null,
   "metadata": {},
   "outputs": [],
   "source": [
    "def callback_minute(context: telegram.ext.CallbackContext):\n",
    "    global LIMITS, TEST\n",
    "    pos = list(filter(lambda f:(f['symbol'] in list(LIMITS.keys())),client.futures_account()['positions']))\n",
    "    if pos:\n",
    "        for position in pos:\n",
    "            text = \"\"\n",
    "            symbol = position['symbol']\n",
    "            mark_price = client.futures_mark_price(symbol=symbol)['markPrice']\n",
    "            text += (str(symbol) + \" Price : \" + str(mark_price))\n",
    "            text += \".\\n\"\n",
    "            text += (\"Unrealized Profit : \"+ position['unrealizedProfit'])\n",
    "            text += \".\\n\"\n",
    "            text += (\"Entry Price : \"+ position['entryPrice'])\n",
    "            if (float(mark_price) > LIMITS[symbol][1]) or (float(mark_price) < LIMITS[symbol][0]):\n",
    "                context.bot.send_message(chat_id='@jeevantest', text=text)\n",
    "    if TEST:\n",
    "        context.bot.send_message(chat_id='@jeevantest', text=\"Test message\")\n",
    "\n",
    "job_minute = j.run_repeating(callback_minute, interval=60, first=0)"
   ]
  },
  {
   "cell_type": "code",
   "execution_count": null,
   "metadata": {},
   "outputs": [],
   "source": [
    "TEST = True"
   ]
  },
  {
   "cell_type": "code",
   "execution_count": null,
   "metadata": {},
   "outputs": [],
   "source": [
    "def callback_minute(context: telegram.ext.CallbackContext):\n",
    "    pos = list(filter(lambda f:(f['symbol']=='XRPUSDT'),client.futures_account()['positions']))\n",
    "    if pos:\n",
    "        text = \"\"\n",
    "        position = pos[0]\n",
    "        mark_price = client.futures_mark_price(symbol=position['symbol'])['markPrice']\n",
    "        text += (str(position['symbol']) + \" Price : \" + str(mark_price))\n",
    "        text += \".\\n\"\n",
    "        text += (\"Unrealized Profit : \"+ position['unrealizedProfit'])\n",
    "        text += \".\\n\"\n",
    "        text += (\"Entry Price : \"+ position['entryPrice'])\n",
    "        if (float(mark_price) > 0.21) or (float(mark_price) < 0.2050):\n",
    "            context.bot.send_message(chat_id='@jeevantest', text=text)\n",
    "\n",
    "job_minute = j.run_repeating(callback_minute, interval=120, first=0)"
   ]
  },
  {
   "cell_type": "code",
   "execution_count": null,
   "metadata": {},
   "outputs": [],
   "source": [
    "updater.start_polling()"
   ]
  },
  {
   "cell_type": "code",
   "execution_count": null,
   "metadata": {},
   "outputs": [],
   "source": [
    "from telegram import InlineQueryResultArticle, InputTextMessageContent, InputMediaPhoto\n",
    "def inline_caps(update, context):\n",
    "    query = update.inline_query.query\n",
    "    if not query:\n",
    "        return\n",
    "    results = list()\n",
    "    results.append(\n",
    "        InlineQueryResultArticle(\n",
    "            id=query.upper(),\n",
    "            title='Caps3',\n",
    "            input_message_content= InputMediaPhoto(\"https://images.indianexpress.com/2020/07/TEEJ-1-1.jpg\")\n",
    "        )\n",
    "    )\n",
    "    context.bot.answer_inline_query(update.inline_query.id, results)\n",
    "\n",
    "from telegram.ext import InlineQueryHandler\n",
    "inline_caps_handler3 = InlineQueryHandler(inline_caps)\n"
   ]
  },
  {
   "cell_type": "code",
   "execution_count": null,
   "metadata": {},
   "outputs": [],
   "source": [
    "dispatcher.remove_handler(inline_caps_handler)"
   ]
  },
  {
   "cell_type": "code",
   "execution_count": null,
   "metadata": {},
   "outputs": [],
   "source": [
    "j.jobs()"
   ]
  },
  {
   "cell_type": "code",
   "execution_count": null,
   "metadata": {},
   "outputs": [],
   "source": []
  },
  {
   "cell_type": "code",
   "execution_count": null,
   "metadata": {},
   "outputs": [],
   "source": []
  },
  {
   "cell_type": "code",
   "execution_count": null,
   "metadata": {},
   "outputs": [],
   "source": []
  },
  {
   "cell_type": "code",
   "execution_count": null,
   "metadata": {},
   "outputs": [],
   "source": [
    "for job in j.jobs():\n",
    "    job.schedule_removal()"
   ]
  },
  {
   "cell_type": "code",
   "execution_count": null,
   "metadata": {},
   "outputs": [],
   "source": [
    "j.jobs()"
   ]
  },
  {
   "cell_type": "code",
   "execution_count": null,
   "metadata": {},
   "outputs": [],
   "source": []
  },
  {
   "cell_type": "code",
   "execution_count": null,
   "metadata": {},
   "outputs": [],
   "source": []
  }
 ],
 "metadata": {
  "kernelspec": {
   "display_name": "Python 3",
   "language": "python",
   "name": "python3"
  },
  "language_info": {
   "codemirror_mode": {
    "name": "ipython",
    "version": 3
   },
   "file_extension": ".py",
   "mimetype": "text/x-python",
   "name": "python",
   "nbconvert_exporter": "python",
   "pygments_lexer": "ipython3",
   "version": "3.6.8"
  }
 },
 "nbformat": 4,
 "nbformat_minor": 4
}
