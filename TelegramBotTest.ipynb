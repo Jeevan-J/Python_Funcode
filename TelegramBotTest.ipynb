{
 "cells": [
  {
   "cell_type": "code",
   "execution_count": 2,
   "metadata": {},
   "outputs": [],
   "source": [
    "#!pip install python-telegram-bot"
   ]
  },
  {
   "cell_type": "code",
   "execution_count": 1,
   "metadata": {},
   "outputs": [],
   "source": [
    "import telegram\n",
    "from binance.client import Client"
   ]
  },
  {
   "cell_type": "code",
   "execution_count": 4,
   "metadata": {},
   "outputs": [],
   "source": [
    "API_KEY = os.getenv('BINANCE_API_KEY')\n",
    "API_SECRET = os.getenv('BINANCE_API_SECRET')\n",
    "TELEGRAM_API_TOKEN = os.getenv('TELEGRAM_API_TOKEN')\n",
    "\n",
    "bot = telegram.Bot(TELEGRAM_API_TOKEN)\n",
    "client = Client(API_KEY,API_SECRET)"
   ]
  },
  {
   "cell_type": "code",
   "execution_count": 3,
   "metadata": {},
   "outputs": [
    {
     "name": "stdout",
     "output_type": "stream",
     "text": [
      "{'id': 1287326681, 'first_name': 'Test Bot', 'is_bot': True, 'username': 'Test151196Bot', 'can_join_groups': True, 'can_read_all_group_messages': False, 'supports_inline_queries': True}\n"
     ]
    }
   ],
   "source": [
    "print(bot.get_me())"
   ]
  },
  {
   "cell_type": "code",
   "execution_count": 4,
   "metadata": {},
   "outputs": [],
   "source": [
    "from telegram.ext import Updater\n",
    "updater = Updater(token=TELEGRAM_API_TOKEN, use_context=True)"
   ]
  },
  {
   "cell_type": "code",
   "execution_count": 5,
   "metadata": {},
   "outputs": [],
   "source": [
    "import logging\n",
    "logging.basicConfig(format='%(asctime)s - %(name)s - %(levelname)s - %(message)s',\n",
    "                     level=logging.INFO)"
   ]
  },
  {
   "cell_type": "code",
   "execution_count": 6,
   "metadata": {},
   "outputs": [],
   "source": [
    "def start(update, context):\n",
    "    context.bot.send_message(chat_id=update.effective_chat.id, text=\"I'm a bot, please talk to me!\")"
   ]
  },
  {
   "cell_type": "code",
   "execution_count": 7,
   "metadata": {},
   "outputs": [],
   "source": [
    "from telegram.ext import CommandHandler\n",
    "dispatcher = updater.dispatcher\n",
    "start_handler = CommandHandler('start', start)\n",
    "dispatcher.add_handler(start_handler)"
   ]
  },
  {
   "cell_type": "code",
   "execution_count": 13,
   "metadata": {},
   "outputs": [
    {
     "data": {
      "text/plain": [
       "datetime.datetime(2020, 7, 31, 9, 33, 11, 37842)"
      ]
     },
     "execution_count": 13,
     "metadata": {},
     "output_type": "execute_result"
    }
   ],
   "source": [
    "from datetime import datetime as dt\n",
    "dt.now()"
   ]
  },
  {
   "cell_type": "code",
   "execution_count": 17,
   "metadata": {},
   "outputs": [
    {
     "data": {
      "text/plain": [
       "{'orderId': 2467501182,\n",
       " 'symbol': 'ETHUSDT',\n",
       " 'status': 'NEW',\n",
       " 'clientOrderId': 'eZcgAAxCyObICjhyasKUaZ',\n",
       " 'price': '326',\n",
       " 'avgPrice': '0.00000',\n",
       " 'origQty': '0.010',\n",
       " 'executedQty': '0',\n",
       " 'cumQty': '0',\n",
       " 'cumQuote': '0',\n",
       " 'timeInForce': 'GTC',\n",
       " 'type': 'LIMIT',\n",
       " 'reduceOnly': False,\n",
       " 'closePosition': False,\n",
       " 'side': 'SELL',\n",
       " 'positionSide': 'BOTH',\n",
       " 'stopPrice': '0',\n",
       " 'workingType': 'CONTRACT_PRICE',\n",
       " 'priceProtect': 'false',\n",
       " 'origType': 'LIMIT',\n",
       " 'updateTime': 1596168337608}"
      ]
     },
     "execution_count": 17,
     "metadata": {},
     "output_type": "execute_result"
    }
   ],
   "source": [
    "client.futures_create_order(symbol=\"ETHUSDT\", side=\"SELL\",type=\"LIMIT\",timeInForce=\"GTC\",quantity=0.01,price=326,timestamp=dt.now())"
   ]
  },
  {
   "cell_type": "code",
   "execution_count": 21,
   "metadata": {},
   "outputs": [
    {
     "ename": "BinanceAPIException",
     "evalue": "APIError(code=-2013): Order does not exist.",
     "output_type": "error",
     "traceback": [
      "\u001b[1;31m---------------------------------------------------------------------------\u001b[0m",
      "\u001b[1;31mBinanceAPIException\u001b[0m                       Traceback (most recent call last)",
      "\u001b[1;32m<ipython-input-21-b54827497afe>\u001b[0m in \u001b[0;36m<module>\u001b[1;34m\u001b[0m\n\u001b[1;32m----> 1\u001b[1;33m \u001b[0mclient\u001b[0m\u001b[1;33m.\u001b[0m\u001b[0mfutures_get_order\u001b[0m\u001b[1;33m(\u001b[0m\u001b[0msymbol\u001b[0m\u001b[1;33m=\u001b[0m\u001b[1;34m\"BTCUSDT\"\u001b[0m\u001b[1;33m)\u001b[0m\u001b[1;33m\u001b[0m\u001b[1;33m\u001b[0m\u001b[0m\n\u001b[0m",
      "\u001b[1;32mc:\\users\\jeeva\\documents\\py_projects\\general\\lib\\site-packages\\binance\\client.py\u001b[0m in \u001b[0;36mfutures_get_order\u001b[1;34m(self, **params)\u001b[0m\n\u001b[0;32m   3590\u001b[0m \u001b[1;33m\u001b[0m\u001b[0m\n\u001b[0;32m   3591\u001b[0m         \"\"\"\n\u001b[1;32m-> 3592\u001b[1;33m         \u001b[1;32mreturn\u001b[0m \u001b[0mself\u001b[0m\u001b[1;33m.\u001b[0m\u001b[0m_request_futures_api\u001b[0m\u001b[1;33m(\u001b[0m\u001b[1;34m'get'\u001b[0m\u001b[1;33m,\u001b[0m \u001b[1;34m'order'\u001b[0m\u001b[1;33m,\u001b[0m \u001b[1;32mTrue\u001b[0m\u001b[1;33m,\u001b[0m \u001b[0mdata\u001b[0m\u001b[1;33m=\u001b[0m\u001b[0mparams\u001b[0m\u001b[1;33m)\u001b[0m\u001b[1;33m\u001b[0m\u001b[1;33m\u001b[0m\u001b[0m\n\u001b[0m\u001b[0;32m   3593\u001b[0m \u001b[1;33m\u001b[0m\u001b[0m\n\u001b[0;32m   3594\u001b[0m     \u001b[1;32mdef\u001b[0m \u001b[0mfutures_get_open_orders\u001b[0m\u001b[1;33m(\u001b[0m\u001b[0mself\u001b[0m\u001b[1;33m,\u001b[0m \u001b[1;33m**\u001b[0m\u001b[0mparams\u001b[0m\u001b[1;33m)\u001b[0m\u001b[1;33m:\u001b[0m\u001b[1;33m\u001b[0m\u001b[1;33m\u001b[0m\u001b[0m\n",
      "\u001b[1;32mc:\\users\\jeeva\\documents\\py_projects\\general\\lib\\site-packages\\binance\\client.py\u001b[0m in \u001b[0;36m_request_futures_api\u001b[1;34m(self, method, path, signed, **kwargs)\u001b[0m\n\u001b[0;32m    220\u001b[0m         \u001b[0muri\u001b[0m \u001b[1;33m=\u001b[0m \u001b[0mself\u001b[0m\u001b[1;33m.\u001b[0m\u001b[0m_create_futures_api_uri\u001b[0m\u001b[1;33m(\u001b[0m\u001b[0mpath\u001b[0m\u001b[1;33m)\u001b[0m\u001b[1;33m\u001b[0m\u001b[1;33m\u001b[0m\u001b[0m\n\u001b[0;32m    221\u001b[0m \u001b[1;33m\u001b[0m\u001b[0m\n\u001b[1;32m--> 222\u001b[1;33m         \u001b[1;32mreturn\u001b[0m \u001b[0mself\u001b[0m\u001b[1;33m.\u001b[0m\u001b[0m_request\u001b[0m\u001b[1;33m(\u001b[0m\u001b[0mmethod\u001b[0m\u001b[1;33m,\u001b[0m \u001b[0muri\u001b[0m\u001b[1;33m,\u001b[0m \u001b[0msigned\u001b[0m\u001b[1;33m,\u001b[0m \u001b[1;32mTrue\u001b[0m\u001b[1;33m,\u001b[0m \u001b[1;33m**\u001b[0m\u001b[0mkwargs\u001b[0m\u001b[1;33m)\u001b[0m\u001b[1;33m\u001b[0m\u001b[1;33m\u001b[0m\u001b[0m\n\u001b[0m\u001b[0;32m    223\u001b[0m \u001b[1;33m\u001b[0m\u001b[0m\n\u001b[0;32m    224\u001b[0m     \u001b[1;32mdef\u001b[0m \u001b[0m_handle_response\u001b[0m\u001b[1;33m(\u001b[0m\u001b[0mself\u001b[0m\u001b[1;33m)\u001b[0m\u001b[1;33m:\u001b[0m\u001b[1;33m\u001b[0m\u001b[1;33m\u001b[0m\u001b[0m\n",
      "\u001b[1;32mc:\\users\\jeeva\\documents\\py_projects\\general\\lib\\site-packages\\binance\\client.py\u001b[0m in \u001b[0;36m_request\u001b[1;34m(self, method, uri, signed, force_params, **kwargs)\u001b[0m\n\u001b[0;32m    195\u001b[0m \u001b[1;33m\u001b[0m\u001b[0m\n\u001b[0;32m    196\u001b[0m         \u001b[0mself\u001b[0m\u001b[1;33m.\u001b[0m\u001b[0mresponse\u001b[0m \u001b[1;33m=\u001b[0m \u001b[0mgetattr\u001b[0m\u001b[1;33m(\u001b[0m\u001b[0mself\u001b[0m\u001b[1;33m.\u001b[0m\u001b[0msession\u001b[0m\u001b[1;33m,\u001b[0m \u001b[0mmethod\u001b[0m\u001b[1;33m)\u001b[0m\u001b[1;33m(\u001b[0m\u001b[0muri\u001b[0m\u001b[1;33m,\u001b[0m \u001b[1;33m**\u001b[0m\u001b[0mkwargs\u001b[0m\u001b[1;33m)\u001b[0m\u001b[1;33m\u001b[0m\u001b[1;33m\u001b[0m\u001b[0m\n\u001b[1;32m--> 197\u001b[1;33m         \u001b[1;32mreturn\u001b[0m \u001b[0mself\u001b[0m\u001b[1;33m.\u001b[0m\u001b[0m_handle_response\u001b[0m\u001b[1;33m(\u001b[0m\u001b[1;33m)\u001b[0m\u001b[1;33m\u001b[0m\u001b[1;33m\u001b[0m\u001b[0m\n\u001b[0m\u001b[0;32m    198\u001b[0m \u001b[1;33m\u001b[0m\u001b[0m\n\u001b[0;32m    199\u001b[0m     \u001b[1;32mdef\u001b[0m \u001b[0m_request_api\u001b[0m\u001b[1;33m(\u001b[0m\u001b[0mself\u001b[0m\u001b[1;33m,\u001b[0m \u001b[0mmethod\u001b[0m\u001b[1;33m,\u001b[0m \u001b[0mpath\u001b[0m\u001b[1;33m,\u001b[0m \u001b[0msigned\u001b[0m\u001b[1;33m=\u001b[0m\u001b[1;32mFalse\u001b[0m\u001b[1;33m,\u001b[0m \u001b[0mversion\u001b[0m\u001b[1;33m=\u001b[0m\u001b[0mPUBLIC_API_VERSION\u001b[0m\u001b[1;33m,\u001b[0m \u001b[1;33m**\u001b[0m\u001b[0mkwargs\u001b[0m\u001b[1;33m)\u001b[0m\u001b[1;33m:\u001b[0m\u001b[1;33m\u001b[0m\u001b[1;33m\u001b[0m\u001b[0m\n",
      "\u001b[1;32mc:\\users\\jeeva\\documents\\py_projects\\general\\lib\\site-packages\\binance\\client.py\u001b[0m in \u001b[0;36m_handle_response\u001b[1;34m(self)\u001b[0m\n\u001b[0;32m    228\u001b[0m         \"\"\"\n\u001b[0;32m    229\u001b[0m         \u001b[1;32mif\u001b[0m \u001b[1;32mnot\u001b[0m \u001b[0mstr\u001b[0m\u001b[1;33m(\u001b[0m\u001b[0mself\u001b[0m\u001b[1;33m.\u001b[0m\u001b[0mresponse\u001b[0m\u001b[1;33m.\u001b[0m\u001b[0mstatus_code\u001b[0m\u001b[1;33m)\u001b[0m\u001b[1;33m.\u001b[0m\u001b[0mstartswith\u001b[0m\u001b[1;33m(\u001b[0m\u001b[1;34m'2'\u001b[0m\u001b[1;33m)\u001b[0m\u001b[1;33m:\u001b[0m\u001b[1;33m\u001b[0m\u001b[1;33m\u001b[0m\u001b[0m\n\u001b[1;32m--> 230\u001b[1;33m             \u001b[1;32mraise\u001b[0m \u001b[0mBinanceAPIException\u001b[0m\u001b[1;33m(\u001b[0m\u001b[0mself\u001b[0m\u001b[1;33m.\u001b[0m\u001b[0mresponse\u001b[0m\u001b[1;33m)\u001b[0m\u001b[1;33m\u001b[0m\u001b[1;33m\u001b[0m\u001b[0m\n\u001b[0m\u001b[0;32m    231\u001b[0m         \u001b[1;32mtry\u001b[0m\u001b[1;33m:\u001b[0m\u001b[1;33m\u001b[0m\u001b[1;33m\u001b[0m\u001b[0m\n\u001b[0;32m    232\u001b[0m             \u001b[1;32mreturn\u001b[0m \u001b[0mself\u001b[0m\u001b[1;33m.\u001b[0m\u001b[0mresponse\u001b[0m\u001b[1;33m.\u001b[0m\u001b[0mjson\u001b[0m\u001b[1;33m(\u001b[0m\u001b[1;33m)\u001b[0m\u001b[1;33m\u001b[0m\u001b[1;33m\u001b[0m\u001b[0m\n",
      "\u001b[1;31mBinanceAPIException\u001b[0m: APIError(code=-2013): Order does not exist."
     ]
    }
   ],
   "source": [
    "client."
   ]
  },
  {
   "cell_type": "code",
   "execution_count": null,
   "metadata": {},
   "outputs": [],
   "source": []
  },
  {
   "cell_type": "code",
   "execution_count": null,
   "metadata": {},
   "outputs": [],
   "source": []
  },
  {
   "cell_type": "code",
   "execution_count": 9,
   "metadata": {},
   "outputs": [],
   "source": [
    "def echo(update, context):\n",
    "    context.bot.send_message(chat_id=update.effective_chat.id, text=update.message.text)\n",
    "\n",
    "from telegram.ext import MessageHandler, Filters\n",
    "echo_handler = MessageHandler(Filters.text & (~Filters.command), echo)\n",
    "dispatcher.add_handler(echo_handler)"
   ]
  },
  {
   "cell_type": "code",
   "execution_count": 10,
   "metadata": {},
   "outputs": [],
   "source": [
    "j = updater.job_queue"
   ]
  },
  {
   "cell_type": "code",
   "execution_count": 24,
   "metadata": {},
   "outputs": [
    {
     "name": "stderr",
     "output_type": "stream",
     "text": [
      "2020-07-30 22:49:42,530 - JobQueue - ERROR - An uncaught error was raised while executing job callback_minute\n",
      "Traceback (most recent call last):\n",
      "  File \"c:\\users\\jeeva\\documents\\py_projects\\general\\lib\\site-packages\\telegram\\vendor\\ptb_urllib3\\urllib3\\connectionpool.py\", line 617, in urlopen\n",
      "    chunked=chunked)\n",
      "  File \"c:\\users\\jeeva\\documents\\py_projects\\general\\lib\\site-packages\\telegram\\vendor\\ptb_urllib3\\urllib3\\connectionpool.py\", line 402, in _make_request\n",
      "    six.raise_from(e, None)\n",
      "  File \"<string>\", line 2, in raise_from\n",
      "  File \"c:\\users\\jeeva\\documents\\py_projects\\general\\lib\\site-packages\\telegram\\vendor\\ptb_urllib3\\urllib3\\connectionpool.py\", line 398, in _make_request\n",
      "    httplib_response = conn.getresponse()\n",
      "  File \"C:\\Users\\jeeva\\AppData\\Local\\Programs\\Python\\Python36\\lib\\http\\client.py\", line 1331, in getresponse\n",
      "    response.begin()\n",
      "  File \"C:\\Users\\jeeva\\AppData\\Local\\Programs\\Python\\Python36\\lib\\http\\client.py\", line 297, in begin\n",
      "    version, status, reason = self._read_status()\n",
      "  File \"C:\\Users\\jeeva\\AppData\\Local\\Programs\\Python\\Python36\\lib\\http\\client.py\", line 258, in _read_status\n",
      "    line = str(self.fp.readline(_MAXLINE + 1), \"iso-8859-1\")\n",
      "  File \"C:\\Users\\jeeva\\AppData\\Local\\Programs\\Python\\Python36\\lib\\socket.py\", line 586, in readinto\n",
      "    return self._sock.recv_into(b)\n",
      "  File \"C:\\Users\\jeeva\\AppData\\Local\\Programs\\Python\\Python36\\lib\\ssl.py\", line 1012, in recv_into\n",
      "    return self.read(nbytes, buffer)\n",
      "  File \"C:\\Users\\jeeva\\AppData\\Local\\Programs\\Python\\Python36\\lib\\ssl.py\", line 874, in read\n",
      "    return self._sslobj.read(len, buffer)\n",
      "  File \"C:\\Users\\jeeva\\AppData\\Local\\Programs\\Python\\Python36\\lib\\ssl.py\", line 631, in read\n",
      "    v = self._sslobj.read(len, buffer)\n",
      "ConnectionResetError: [WinError 10054] An existing connection was forcibly closed by the remote host\n",
      "\n",
      "During handling of the above exception, another exception occurred:\n",
      "\n",
      "Traceback (most recent call last):\n",
      "  File \"c:\\users\\jeeva\\documents\\py_projects\\general\\lib\\site-packages\\telegram\\utils\\request.py\", line 225, in _request_wrapper\n",
      "    resp = self._con_pool.request(*args, **kwargs)\n",
      "  File \"c:\\users\\jeeva\\documents\\py_projects\\general\\lib\\site-packages\\telegram\\vendor\\ptb_urllib3\\urllib3\\request.py\", line 70, in request\n",
      "    **urlopen_kw)\n",
      "  File \"c:\\users\\jeeva\\documents\\py_projects\\general\\lib\\site-packages\\telegram\\vendor\\ptb_urllib3\\urllib3\\request.py\", line 148, in request_encode_body\n",
      "    return self.urlopen(method, url, **extra_kw)\n",
      "  File \"c:\\users\\jeeva\\documents\\py_projects\\general\\lib\\site-packages\\telegram\\vendor\\ptb_urllib3\\urllib3\\poolmanager.py\", line 244, in urlopen\n",
      "    response = conn.urlopen(method, u.request_uri, **kw)\n",
      "  File \"c:\\users\\jeeva\\documents\\py_projects\\general\\lib\\site-packages\\telegram\\vendor\\ptb_urllib3\\urllib3\\connectionpool.py\", line 666, in urlopen\n",
      "    _stacktrace=sys.exc_info()[2])\n",
      "  File \"c:\\users\\jeeva\\documents\\py_projects\\general\\lib\\site-packages\\telegram\\vendor\\ptb_urllib3\\urllib3\\util\\retry.py\", line 347, in increment\n",
      "    raise six.reraise(type(error), error, _stacktrace)\n",
      "  File \"c:\\users\\jeeva\\documents\\py_projects\\general\\lib\\site-packages\\telegram\\vendor\\ptb_urllib3\\urllib3\\packages\\six.py\", line 685, in reraise\n",
      "    raise value.with_traceback(tb)\n",
      "  File \"c:\\users\\jeeva\\documents\\py_projects\\general\\lib\\site-packages\\telegram\\vendor\\ptb_urllib3\\urllib3\\connectionpool.py\", line 617, in urlopen\n",
      "    chunked=chunked)\n",
      "  File \"c:\\users\\jeeva\\documents\\py_projects\\general\\lib\\site-packages\\telegram\\vendor\\ptb_urllib3\\urllib3\\connectionpool.py\", line 402, in _make_request\n",
      "    six.raise_from(e, None)\n",
      "  File \"<string>\", line 2, in raise_from\n",
      "  File \"c:\\users\\jeeva\\documents\\py_projects\\general\\lib\\site-packages\\telegram\\vendor\\ptb_urllib3\\urllib3\\connectionpool.py\", line 398, in _make_request\n",
      "    httplib_response = conn.getresponse()\n",
      "  File \"C:\\Users\\jeeva\\AppData\\Local\\Programs\\Python\\Python36\\lib\\http\\client.py\", line 1331, in getresponse\n",
      "    response.begin()\n",
      "  File \"C:\\Users\\jeeva\\AppData\\Local\\Programs\\Python\\Python36\\lib\\http\\client.py\", line 297, in begin\n",
      "    version, status, reason = self._read_status()\n",
      "  File \"C:\\Users\\jeeva\\AppData\\Local\\Programs\\Python\\Python36\\lib\\http\\client.py\", line 258, in _read_status\n",
      "    line = str(self.fp.readline(_MAXLINE + 1), \"iso-8859-1\")\n",
      "  File \"C:\\Users\\jeeva\\AppData\\Local\\Programs\\Python\\Python36\\lib\\socket.py\", line 586, in readinto\n",
      "    return self._sock.recv_into(b)\n",
      "  File \"C:\\Users\\jeeva\\AppData\\Local\\Programs\\Python\\Python36\\lib\\ssl.py\", line 1012, in recv_into\n",
      "    return self.read(nbytes, buffer)\n",
      "  File \"C:\\Users\\jeeva\\AppData\\Local\\Programs\\Python\\Python36\\lib\\ssl.py\", line 874, in read\n",
      "    return self._sslobj.read(len, buffer)\n",
      "  File \"C:\\Users\\jeeva\\AppData\\Local\\Programs\\Python\\Python36\\lib\\ssl.py\", line 631, in read\n",
      "    v = self._sslobj.read(len, buffer)\n",
      "telegram.vendor.ptb_urllib3.urllib3.exceptions.ProtocolError: ('Connection aborted.', ConnectionResetError(10054, 'An existing connection was forcibly closed by the remote host', None, 10054, None))\n",
      "\n",
      "During handling of the above exception, another exception occurred:\n",
      "\n",
      "Traceback (most recent call last):\n",
      "  File \"c:\\users\\jeeva\\documents\\py_projects\\general\\lib\\site-packages\\telegram\\ext\\jobqueue.py\", line 418, in tick\n",
      "    job.run(self._dispatcher)\n",
      "  File \"c:\\users\\jeeva\\documents\\py_projects\\general\\lib\\site-packages\\telegram\\ext\\jobqueue.py\", line 574, in run\n",
      "    self.callback(CallbackContext.from_job(self, dispatcher))\n",
      "  File \"<ipython-input-12-97f0d12c8100>\", line 15, in callback_minute\n",
      "    context.bot.send_message(chat_id='@jeevantest', text=text)\n",
      "  File \"<decorator-gen-128>\", line 2, in send_message\n",
      "  File \"c:\\users\\jeeva\\documents\\py_projects\\general\\lib\\site-packages\\telegram\\bot.py\", line 70, in decorator\n",
      "    result = func(*args, **kwargs)\n",
      "  File \"c:\\users\\jeeva\\documents\\py_projects\\general\\lib\\site-packages\\telegram\\bot.py\", line 351, in send_message\n",
      "    timeout=timeout, **kwargs)\n",
      "  File \"c:\\users\\jeeva\\documents\\py_projects\\general\\lib\\site-packages\\telegram\\bot.py\", line 178, in _message\n",
      "    result = self._request.post(url, data, timeout=timeout)\n",
      "  File \"c:\\users\\jeeva\\documents\\py_projects\\general\\lib\\site-packages\\telegram\\utils\\request.py\", line 334, in post\n",
      "    **urlopen_kwargs)\n",
      "  File \"c:\\users\\jeeva\\documents\\py_projects\\general\\lib\\site-packages\\telegram\\utils\\request.py\", line 231, in _request_wrapper\n",
      "    raise NetworkError('urllib3 HTTPError {0}'.format(error))\n",
      "telegram.error.NetworkError: urllib3 HTTPError ('Connection aborted.', ConnectionResetError(10054, 'An existing connection was forcibly closed by the remote host', None, 10054, None))\n"
     ]
    }
   ],
   "source": [
    "LIMITS = dict({'TRXUSDT':[0.01890,0.01920]})\n",
    "TEST = False"
   ]
  },
  {
   "cell_type": "code",
   "execution_count": 16,
   "metadata": {},
   "outputs": [],
   "source": [
    "def callback_minute(context: telegram.ext.CallbackContext):\n",
    "    global LIMITS, TEST\n",
    "    pos = list(filter(lambda f:(f['symbol'] in list(LIMITS.keys())),client.futures_account()['positions']))\n",
    "    if pos:\n",
    "        for position in pos:\n",
    "            text = \"\"\n",
    "            symbol = position['symbol']\n",
    "            mark_price = client.futures_mark_price(symbol=symbol)['markPrice']\n",
    "            text += (str(symbol) + \" Price : \" + str(mark_price))\n",
    "            text += \".\\n\"\n",
    "            text += (\"Unrealized Profit : \"+ position['unrealizedProfit'])\n",
    "            text += \".\\n\"\n",
    "            text += (\"Entry Price : \"+ position['entryPrice'])\n",
    "            if (float(mark_price) > LIMITS[symbol][1]) or (float(mark_price) < LIMITS[symbol][0]):\n",
    "                context.bot.send_message(chat_id='@jeevantest', text=text)\n",
    "    if TEST:\n",
    "        context.bot.send_message(chat_id='@jeevantest', text=\"Test message\")\n",
    "\n",
    "job_minute = j.run_repeating(callback_minute, interval=60, first=0)"
   ]
  },
  {
   "cell_type": "code",
   "execution_count": 18,
   "metadata": {},
   "outputs": [],
   "source": [
    "TEST = True"
   ]
  },
  {
   "cell_type": "markdown",
   "metadata": {},
   "source": [
    "def callback_minute(context: telegram.ext.CallbackContext):\n",
    "    pos = list(filter(lambda f:(f['symbol']=='XRPUSDT'),client.futures_account()['positions']))\n",
    "    if pos:\n",
    "        text = \"\"\n",
    "        position = pos[0]\n",
    "        mark_price = client.futures_mark_price(symbol=position['symbol'])['markPrice']\n",
    "        text += (str(position['symbol']) + \" Price : \" + str(mark_price))\n",
    "        text += \".\\n\"\n",
    "        text += (\"Unrealized Profit : \"+ position['unrealizedProfit'])\n",
    "        text += \".\\n\"\n",
    "        text += (\"Entry Price : \"+ position['entryPrice'])\n",
    "        if (float(mark_price) > 0.21) or (float(mark_price) < 0.2050):\n",
    "            context.bot.send_message(chat_id='@jeevantest', text=text)\n",
    "\n",
    "job_minute = j.run_repeating(callback_minute, interval=120, first=0)"
   ]
  },
  {
   "cell_type": "code",
   "execution_count": 14,
   "metadata": {},
   "outputs": [
    {
     "data": {
      "text/plain": [
       "<queue.Queue at 0x2787e03cda0>"
      ]
     },
     "execution_count": 14,
     "metadata": {},
     "output_type": "execute_result"
    },
    {
     "name": "stderr",
     "output_type": "stream",
     "text": [
      "2020-07-30 19:10:37,036 - JobQueue - ERROR - An uncaught error was raised while executing job callback_minute\n",
      "Traceback (most recent call last):\n",
      "  File \"c:\\users\\jeeva\\documents\\py_projects\\general\\lib\\site-packages\\telegram\\ext\\jobqueue.py\", line 418, in tick\n",
      "    job.run(self._dispatcher)\n",
      "  File \"c:\\users\\jeeva\\documents\\py_projects\\general\\lib\\site-packages\\telegram\\ext\\jobqueue.py\", line 574, in run\n",
      "    self.callback(CallbackContext.from_job(self, dispatcher))\n",
      "  File \"<ipython-input-12-97f0d12c8100>\", line 3, in callback_minute\n",
      "    pos = list(filter(lambda f:(f['symbol'] in list(LIMITS.keys())),client.futures_account()['positions']))\n",
      "  File \"c:\\users\\jeeva\\documents\\py_projects\\general\\lib\\site-packages\\binance\\client.py\", line 3648, in futures_account\n",
      "    return self._request_futures_api('get', 'account', True, data=params)\n",
      "  File \"c:\\users\\jeeva\\documents\\py_projects\\general\\lib\\site-packages\\binance\\client.py\", line 222, in _request_futures_api\n",
      "    return self._request(method, uri, signed, True, **kwargs)\n",
      "  File \"c:\\users\\jeeva\\documents\\py_projects\\general\\lib\\site-packages\\binance\\client.py\", line 197, in _request\n",
      "    return self._handle_response()\n",
      "  File \"c:\\users\\jeeva\\documents\\py_projects\\general\\lib\\site-packages\\binance\\client.py\", line 230, in _handle_response\n",
      "    raise BinanceAPIException(self.response)\n",
      "binance.exceptions.BinanceAPIException: APIError(code=-1021): Timestamp for this request is outside of the recvWindow.\n"
     ]
    }
   ],
   "source": [
    "updater.start_polling()"
   ]
  },
  {
   "cell_type": "code",
   "execution_count": 26,
   "metadata": {},
   "outputs": [],
   "source": [
    "from telegram import InlineQueryResultArticle, InputTextMessageContent, InputMediaPhoto\n",
    "def inline_caps(update, context):\n",
    "    query = update.inline_query.query\n",
    "    if not query:\n",
    "        return\n",
    "    results = list()\n",
    "    results.append(\n",
    "        InlineQueryResultArticle(\n",
    "            id=query.upper(),\n",
    "            title='Caps3',\n",
    "            input_message_content= InputMediaPhoto(\"https://images.indianexpress.com/2020/07/TEEJ-1-1.jpg\")\n",
    "        )\n",
    "    )\n",
    "    context.bot.answer_inline_query(update.inline_query.id, results)\n",
    "\n",
    "from telegram.ext import InlineQueryHandler\n",
    "inline_caps_handler3 = InlineQueryHandler(inline_caps)\n"
   ]
  },
  {
   "cell_type": "code",
   "execution_count": 30,
   "metadata": {},
   "outputs": [],
   "source": [
    "dispatcher.remove_handler(inline_caps_handler)"
   ]
  },
  {
   "cell_type": "code",
   "execution_count": 17,
   "metadata": {},
   "outputs": [
    {
     "data": {
      "text/plain": [
       "(<telegram.ext.jobqueue.Job at 0x2787e04ec88>,)"
      ]
     },
     "execution_count": 17,
     "metadata": {},
     "output_type": "execute_result"
    }
   ],
   "source": [
    "j.jobs()"
   ]
  },
  {
   "cell_type": "code",
   "execution_count": null,
   "metadata": {},
   "outputs": [],
   "source": []
  },
  {
   "cell_type": "code",
   "execution_count": null,
   "metadata": {},
   "outputs": [],
   "source": []
  },
  {
   "cell_type": "code",
   "execution_count": null,
   "metadata": {},
   "outputs": [],
   "source": []
  },
  {
   "cell_type": "code",
   "execution_count": 25,
   "metadata": {},
   "outputs": [
    {
     "name": "stderr",
     "output_type": "stream",
     "text": [
      "2020-07-31 00:52:59,345 - telegram.ext.updater - ERROR - Error while getting Updates: urllib3 HTTPError ('Connection aborted.', ConnectionResetError(10054, 'An existing connection was forcibly closed by the remote host', None, 10054, None))\n",
      "2020-07-31 00:52:59,358 - telegram.ext.dispatcher - ERROR - No error handlers are registered, logging exception.\n",
      "Traceback (most recent call last):\n",
      "  File \"c:\\users\\jeeva\\documents\\py_projects\\general\\lib\\site-packages\\telegram\\vendor\\ptb_urllib3\\urllib3\\connectionpool.py\", line 617, in urlopen\n",
      "    chunked=chunked)\n",
      "  File \"c:\\users\\jeeva\\documents\\py_projects\\general\\lib\\site-packages\\telegram\\vendor\\ptb_urllib3\\urllib3\\connectionpool.py\", line 402, in _make_request\n",
      "    six.raise_from(e, None)\n",
      "  File \"<string>\", line 2, in raise_from\n",
      "  File \"c:\\users\\jeeva\\documents\\py_projects\\general\\lib\\site-packages\\telegram\\vendor\\ptb_urllib3\\urllib3\\connectionpool.py\", line 398, in _make_request\n",
      "    httplib_response = conn.getresponse()\n",
      "  File \"C:\\Users\\jeeva\\AppData\\Local\\Programs\\Python\\Python36\\lib\\http\\client.py\", line 1331, in getresponse\n",
      "    response.begin()\n",
      "  File \"C:\\Users\\jeeva\\AppData\\Local\\Programs\\Python\\Python36\\lib\\http\\client.py\", line 297, in begin\n",
      "    version, status, reason = self._read_status()\n",
      "  File \"C:\\Users\\jeeva\\AppData\\Local\\Programs\\Python\\Python36\\lib\\http\\client.py\", line 258, in _read_status\n",
      "    line = str(self.fp.readline(_MAXLINE + 1), \"iso-8859-1\")\n",
      "  File \"C:\\Users\\jeeva\\AppData\\Local\\Programs\\Python\\Python36\\lib\\socket.py\", line 586, in readinto\n",
      "    return self._sock.recv_into(b)\n",
      "  File \"C:\\Users\\jeeva\\AppData\\Local\\Programs\\Python\\Python36\\lib\\ssl.py\", line 1012, in recv_into\n",
      "    return self.read(nbytes, buffer)\n",
      "  File \"C:\\Users\\jeeva\\AppData\\Local\\Programs\\Python\\Python36\\lib\\ssl.py\", line 874, in read\n",
      "    return self._sslobj.read(len, buffer)\n",
      "  File \"C:\\Users\\jeeva\\AppData\\Local\\Programs\\Python\\Python36\\lib\\ssl.py\", line 631, in read\n",
      "    v = self._sslobj.read(len, buffer)\n",
      "ConnectionResetError: [WinError 10054] An existing connection was forcibly closed by the remote host\n",
      "\n",
      "During handling of the above exception, another exception occurred:\n",
      "\n",
      "Traceback (most recent call last):\n",
      "  File \"c:\\users\\jeeva\\documents\\py_projects\\general\\lib\\site-packages\\telegram\\utils\\request.py\", line 225, in _request_wrapper\n",
      "    resp = self._con_pool.request(*args, **kwargs)\n",
      "  File \"c:\\users\\jeeva\\documents\\py_projects\\general\\lib\\site-packages\\telegram\\vendor\\ptb_urllib3\\urllib3\\request.py\", line 70, in request\n",
      "    **urlopen_kw)\n",
      "  File \"c:\\users\\jeeva\\documents\\py_projects\\general\\lib\\site-packages\\telegram\\vendor\\ptb_urllib3\\urllib3\\request.py\", line 148, in request_encode_body\n",
      "    return self.urlopen(method, url, **extra_kw)\n",
      "  File \"c:\\users\\jeeva\\documents\\py_projects\\general\\lib\\site-packages\\telegram\\vendor\\ptb_urllib3\\urllib3\\poolmanager.py\", line 244, in urlopen\n",
      "    response = conn.urlopen(method, u.request_uri, **kw)\n",
      "  File \"c:\\users\\jeeva\\documents\\py_projects\\general\\lib\\site-packages\\telegram\\vendor\\ptb_urllib3\\urllib3\\connectionpool.py\", line 666, in urlopen\n",
      "    _stacktrace=sys.exc_info()[2])\n",
      "  File \"c:\\users\\jeeva\\documents\\py_projects\\general\\lib\\site-packages\\telegram\\vendor\\ptb_urllib3\\urllib3\\util\\retry.py\", line 347, in increment\n",
      "    raise six.reraise(type(error), error, _stacktrace)\n",
      "  File \"c:\\users\\jeeva\\documents\\py_projects\\general\\lib\\site-packages\\telegram\\vendor\\ptb_urllib3\\urllib3\\packages\\six.py\", line 685, in reraise\n",
      "    raise value.with_traceback(tb)\n",
      "  File \"c:\\users\\jeeva\\documents\\py_projects\\general\\lib\\site-packages\\telegram\\vendor\\ptb_urllib3\\urllib3\\connectionpool.py\", line 617, in urlopen\n",
      "    chunked=chunked)\n",
      "  File \"c:\\users\\jeeva\\documents\\py_projects\\general\\lib\\site-packages\\telegram\\vendor\\ptb_urllib3\\urllib3\\connectionpool.py\", line 402, in _make_request\n",
      "    six.raise_from(e, None)\n",
      "  File \"<string>\", line 2, in raise_from\n",
      "  File \"c:\\users\\jeeva\\documents\\py_projects\\general\\lib\\site-packages\\telegram\\vendor\\ptb_urllib3\\urllib3\\connectionpool.py\", line 398, in _make_request\n",
      "    httplib_response = conn.getresponse()\n",
      "  File \"C:\\Users\\jeeva\\AppData\\Local\\Programs\\Python\\Python36\\lib\\http\\client.py\", line 1331, in getresponse\n",
      "    response.begin()\n",
      "  File \"C:\\Users\\jeeva\\AppData\\Local\\Programs\\Python\\Python36\\lib\\http\\client.py\", line 297, in begin\n",
      "    version, status, reason = self._read_status()\n",
      "  File \"C:\\Users\\jeeva\\AppData\\Local\\Programs\\Python\\Python36\\lib\\http\\client.py\", line 258, in _read_status\n",
      "    line = str(self.fp.readline(_MAXLINE + 1), \"iso-8859-1\")\n",
      "  File \"C:\\Users\\jeeva\\AppData\\Local\\Programs\\Python\\Python36\\lib\\socket.py\", line 586, in readinto\n",
      "    return self._sock.recv_into(b)\n",
      "  File \"C:\\Users\\jeeva\\AppData\\Local\\Programs\\Python\\Python36\\lib\\ssl.py\", line 1012, in recv_into\n",
      "    return self.read(nbytes, buffer)\n",
      "  File \"C:\\Users\\jeeva\\AppData\\Local\\Programs\\Python\\Python36\\lib\\ssl.py\", line 874, in read\n",
      "    return self._sslobj.read(len, buffer)\n",
      "  File \"C:\\Users\\jeeva\\AppData\\Local\\Programs\\Python\\Python36\\lib\\ssl.py\", line 631, in read\n",
      "    v = self._sslobj.read(len, buffer)\n",
      "telegram.vendor.ptb_urllib3.urllib3.exceptions.ProtocolError: ('Connection aborted.', ConnectionResetError(10054, 'An existing connection was forcibly closed by the remote host', None, 10054, None))\n",
      "\n",
      "During handling of the above exception, another exception occurred:\n",
      "\n",
      "Traceback (most recent call last):\n",
      "  File \"c:\\users\\jeeva\\documents\\py_projects\\general\\lib\\site-packages\\telegram\\ext\\updater.py\", line 380, in _network_loop_retry\n",
      "    if not action_cb():\n",
      "  File \"c:\\users\\jeeva\\documents\\py_projects\\general\\lib\\site-packages\\telegram\\ext\\updater.py\", line 341, in polling_action_cb\n",
      "    allowed_updates=allowed_updates)\n",
      "  File \"<decorator-gen-157>\", line 2, in get_updates\n",
      "  File \"c:\\users\\jeeva\\documents\\py_projects\\general\\lib\\site-packages\\telegram\\bot.py\", line 70, in decorator\n",
      "    result = func(*args, **kwargs)\n",
      "  File \"c:\\users\\jeeva\\documents\\py_projects\\general\\lib\\site-packages\\telegram\\bot.py\", line 2136, in get_updates\n",
      "    result = self._request.post(url, data, timeout=float(read_latency) + float(timeout))\n",
      "  File \"c:\\users\\jeeva\\documents\\py_projects\\general\\lib\\site-packages\\telegram\\utils\\request.py\", line 334, in post\n",
      "    **urlopen_kwargs)\n",
      "  File \"c:\\users\\jeeva\\documents\\py_projects\\general\\lib\\site-packages\\telegram\\utils\\request.py\", line 231, in _request_wrapper\n",
      "    raise NetworkError('urllib3 HTTPError {0}'.format(error))\n",
      "telegram.error.NetworkError: urllib3 HTTPError ('Connection aborted.', ConnectionResetError(10054, 'An existing connection was forcibly closed by the remote host', None, 10054, None))\n",
      "2020-07-31 00:53:00,367 - telegram.vendor.ptb_urllib3.urllib3.connectionpool - WARNING - Retrying (Retry(total=2, connect=None, read=None, redirect=None)) after connection broken by 'NewConnectionError('<telegram.vendor.ptb_urllib3.urllib3.connection.VerifiedHTTPSConnection object at 0x000002787E15E940>: Failed to establish a new connection: [Errno 11001] getaddrinfo failed',)': /bot1287326681:AAGcQEgXB45YWzvedw8BZlDjk9y5idKi5ug/getUpdates\n",
      "2020-07-31 00:53:00,385 - telegram.vendor.ptb_urllib3.urllib3.connectionpool - WARNING - Retrying (Retry(total=1, connect=None, read=None, redirect=None)) after connection broken by 'NewConnectionError('<telegram.vendor.ptb_urllib3.urllib3.connection.VerifiedHTTPSConnection object at 0x000002787E04E320>: Failed to establish a new connection: [Errno 11001] getaddrinfo failed',)': /bot1287326681:AAGcQEgXB45YWzvedw8BZlDjk9y5idKi5ug/getUpdates\n",
      "2020-07-31 00:53:00,397 - telegram.vendor.ptb_urllib3.urllib3.connectionpool - WARNING - Retrying (Retry(total=0, connect=None, read=None, redirect=None)) after connection broken by 'NewConnectionError('<telegram.vendor.ptb_urllib3.urllib3.connection.VerifiedHTTPSConnection object at 0x000002787E04E0F0>: Failed to establish a new connection: [Errno 11001] getaddrinfo failed',)': /bot1287326681:AAGcQEgXB45YWzvedw8BZlDjk9y5idKi5ug/getUpdates\n",
      "2020-07-31 00:53:00,400 - telegram.ext.updater - ERROR - Error while getting Updates: urllib3 HTTPError HTTPSConnectionPool(host='api.telegram.org', port=443): Max retries exceeded with url: /bot1287326681:AAGcQEgXB45YWzvedw8BZlDjk9y5idKi5ug/getUpdates (Caused by NewConnectionError('<telegram.vendor.ptb_urllib3.urllib3.connection.VerifiedHTTPSConnection object at 0x000002787E04ECF8>: Failed to establish a new connection: [Errno 11001] getaddrinfo failed',))\n"
     ]
    },
    {
     "name": "stderr",
     "output_type": "stream",
     "text": [
      "2020-07-31 00:53:00,401 - telegram.ext.dispatcher - ERROR - No error handlers are registered, logging exception.\n",
      "Traceback (most recent call last):\n",
      "  File \"c:\\users\\jeeva\\documents\\py_projects\\general\\lib\\site-packages\\telegram\\vendor\\ptb_urllib3\\urllib3\\connection.py\", line 141, in _new_conn\n",
      "    (self.host, self.port), self.timeout, **extra_kw)\n",
      "  File \"c:\\users\\jeeva\\documents\\py_projects\\general\\lib\\site-packages\\telegram\\vendor\\ptb_urllib3\\urllib3\\util\\connection.py\", line 60, in create_connection\n",
      "    for res in socket.getaddrinfo(host, port, family, socket.SOCK_STREAM):\n",
      "  File \"C:\\Users\\jeeva\\AppData\\Local\\Programs\\Python\\Python36\\lib\\socket.py\", line 745, in getaddrinfo\n",
      "    for res in _socket.getaddrinfo(host, port, family, type, proto, flags):\n",
      "socket.gaierror: [Errno 11001] getaddrinfo failed\n",
      "\n",
      "During handling of the above exception, another exception occurred:\n",
      "\n",
      "Traceback (most recent call last):\n",
      "  File \"c:\\users\\jeeva\\documents\\py_projects\\general\\lib\\site-packages\\telegram\\vendor\\ptb_urllib3\\urllib3\\connectionpool.py\", line 617, in urlopen\n",
      "    chunked=chunked)\n",
      "  File \"c:\\users\\jeeva\\documents\\py_projects\\general\\lib\\site-packages\\telegram\\vendor\\ptb_urllib3\\urllib3\\connectionpool.py\", line 360, in _make_request\n",
      "    self._validate_conn(conn)\n",
      "  File \"c:\\users\\jeeva\\documents\\py_projects\\general\\lib\\site-packages\\telegram\\vendor\\ptb_urllib3\\urllib3\\connectionpool.py\", line 857, in _validate_conn\n",
      "    super(HTTPSConnectionPool, self)._validate_conn(conn)\n",
      "  File \"c:\\users\\jeeva\\documents\\py_projects\\general\\lib\\site-packages\\telegram\\vendor\\ptb_urllib3\\urllib3\\connectionpool.py\", line 289, in _validate_conn\n",
      "    conn.connect()\n",
      "  File \"c:\\users\\jeeva\\documents\\py_projects\\general\\lib\\site-packages\\telegram\\vendor\\ptb_urllib3\\urllib3\\connection.py\", line 284, in connect\n",
      "    conn = self._new_conn()\n",
      "  File \"c:\\users\\jeeva\\documents\\py_projects\\general\\lib\\site-packages\\telegram\\vendor\\ptb_urllib3\\urllib3\\connection.py\", line 150, in _new_conn\n",
      "    self, \"Failed to establish a new connection: %s\" % e)\n",
      "telegram.vendor.ptb_urllib3.urllib3.exceptions.NewConnectionError: <telegram.vendor.ptb_urllib3.urllib3.connection.VerifiedHTTPSConnection object at 0x000002787E04ECF8>: Failed to establish a new connection: [Errno 11001] getaddrinfo failed\n",
      "\n",
      "During handling of the above exception, another exception occurred:\n",
      "\n",
      "Traceback (most recent call last):\n",
      "  File \"c:\\users\\jeeva\\documents\\py_projects\\general\\lib\\site-packages\\telegram\\utils\\request.py\", line 225, in _request_wrapper\n",
      "    resp = self._con_pool.request(*args, **kwargs)\n",
      "  File \"c:\\users\\jeeva\\documents\\py_projects\\general\\lib\\site-packages\\telegram\\vendor\\ptb_urllib3\\urllib3\\request.py\", line 70, in request\n",
      "    **urlopen_kw)\n",
      "  File \"c:\\users\\jeeva\\documents\\py_projects\\general\\lib\\site-packages\\telegram\\vendor\\ptb_urllib3\\urllib3\\request.py\", line 148, in request_encode_body\n",
      "    return self.urlopen(method, url, **extra_kw)\n",
      "  File \"c:\\users\\jeeva\\documents\\py_projects\\general\\lib\\site-packages\\telegram\\vendor\\ptb_urllib3\\urllib3\\poolmanager.py\", line 244, in urlopen\n",
      "    response = conn.urlopen(method, u.request_uri, **kw)\n",
      "  File \"c:\\users\\jeeva\\documents\\py_projects\\general\\lib\\site-packages\\telegram\\vendor\\ptb_urllib3\\urllib3\\connectionpool.py\", line 695, in urlopen\n",
      "    **response_kw)\n",
      "  File \"c:\\users\\jeeva\\documents\\py_projects\\general\\lib\\site-packages\\telegram\\vendor\\ptb_urllib3\\urllib3\\connectionpool.py\", line 695, in urlopen\n",
      "    **response_kw)\n",
      "  File \"c:\\users\\jeeva\\documents\\py_projects\\general\\lib\\site-packages\\telegram\\vendor\\ptb_urllib3\\urllib3\\connectionpool.py\", line 695, in urlopen\n",
      "    **response_kw)\n",
      "  File \"c:\\users\\jeeva\\documents\\py_projects\\general\\lib\\site-packages\\telegram\\vendor\\ptb_urllib3\\urllib3\\connectionpool.py\", line 666, in urlopen\n",
      "    _stacktrace=sys.exc_info()[2])\n",
      "  File \"c:\\users\\jeeva\\documents\\py_projects\\general\\lib\\site-packages\\telegram\\vendor\\ptb_urllib3\\urllib3\\util\\retry.py\", line 376, in increment\n",
      "    raise MaxRetryError(_pool, url, error or ResponseError(cause))\n",
      "telegram.vendor.ptb_urllib3.urllib3.exceptions.MaxRetryError: HTTPSConnectionPool(host='api.telegram.org', port=443): Max retries exceeded with url: /bot1287326681:AAGcQEgXB45YWzvedw8BZlDjk9y5idKi5ug/getUpdates (Caused by NewConnectionError('<telegram.vendor.ptb_urllib3.urllib3.connection.VerifiedHTTPSConnection object at 0x000002787E04ECF8>: Failed to establish a new connection: [Errno 11001] getaddrinfo failed',))\n",
      "\n",
      "During handling of the above exception, another exception occurred:\n",
      "\n",
      "Traceback (most recent call last):\n",
      "  File \"c:\\users\\jeeva\\documents\\py_projects\\general\\lib\\site-packages\\telegram\\ext\\updater.py\", line 380, in _network_loop_retry\n",
      "    if not action_cb():\n",
      "  File \"c:\\users\\jeeva\\documents\\py_projects\\general\\lib\\site-packages\\telegram\\ext\\updater.py\", line 341, in polling_action_cb\n",
      "    allowed_updates=allowed_updates)\n",
      "  File \"<decorator-gen-157>\", line 2, in get_updates\n",
      "  File \"c:\\users\\jeeva\\documents\\py_projects\\general\\lib\\site-packages\\telegram\\bot.py\", line 70, in decorator\n",
      "    result = func(*args, **kwargs)\n",
      "  File \"c:\\users\\jeeva\\documents\\py_projects\\general\\lib\\site-packages\\telegram\\bot.py\", line 2136, in get_updates\n",
      "    result = self._request.post(url, data, timeout=float(read_latency) + float(timeout))\n",
      "  File \"c:\\users\\jeeva\\documents\\py_projects\\general\\lib\\site-packages\\telegram\\utils\\request.py\", line 334, in post\n",
      "    **urlopen_kwargs)\n",
      "  File \"c:\\users\\jeeva\\documents\\py_projects\\general\\lib\\site-packages\\telegram\\utils\\request.py\", line 231, in _request_wrapper\n",
      "    raise NetworkError('urllib3 HTTPError {0}'.format(error))\n",
      "telegram.error.NetworkError: urllib3 HTTPError HTTPSConnectionPool(host='api.telegram.org', port=443): Max retries exceeded with url: /bot1287326681:AAGcQEgXB45YWzvedw8BZlDjk9y5idKi5ug/getUpdates (Caused by NewConnectionError('<telegram.vendor.ptb_urllib3.urllib3.connection.VerifiedHTTPSConnection object at 0x000002787E04ECF8>: Failed to establish a new connection: [Errno 11001] getaddrinfo failed',))\n",
      "2020-07-31 07:43:19,985 - telegram.vendor.ptb_urllib3.urllib3.connectionpool - WARNING - Retrying (Retry(total=2, connect=None, read=None, redirect=None)) after connection broken by 'NewConnectionError('<telegram.vendor.ptb_urllib3.urllib3.connection.VerifiedHTTPSConnection object at 0x000002787E14FEF0>: Failed to establish a new connection: [Errno 11001] getaddrinfo failed',)': /bot1287326681:AAGcQEgXB45YWzvedw8BZlDjk9y5idKi5ug/getUpdates\n",
      "2020-07-31 07:43:20,071 - telegram.vendor.ptb_urllib3.urllib3.connectionpool - WARNING - Retrying (Retry(total=1, connect=None, read=None, redirect=None)) after connection broken by 'NewConnectionError('<telegram.vendor.ptb_urllib3.urllib3.connection.VerifiedHTTPSConnection object at 0x000002787E14F208>: Failed to establish a new connection: [Errno 11001] getaddrinfo failed',)': /bot1287326681:AAGcQEgXB45YWzvedw8BZlDjk9y5idKi5ug/getUpdates\n",
      "2020-07-31 07:43:20,108 - telegram.vendor.ptb_urllib3.urllib3.connectionpool - WARNING - Retrying (Retry(total=0, connect=None, read=None, redirect=None)) after connection broken by 'NewConnectionError('<telegram.vendor.ptb_urllib3.urllib3.connection.VerifiedHTTPSConnection object at 0x000002787E14FB70>: Failed to establish a new connection: [Errno 11001] getaddrinfo failed',)': /bot1287326681:AAGcQEgXB45YWzvedw8BZlDjk9y5idKi5ug/getUpdates\n",
      "2020-07-31 07:43:20,147 - telegram.ext.updater - ERROR - Error while getting Updates: urllib3 HTTPError HTTPSConnectionPool(host='api.telegram.org', port=443): Max retries exceeded with url: /bot1287326681:AAGcQEgXB45YWzvedw8BZlDjk9y5idKi5ug/getUpdates (Caused by NewConnectionError('<telegram.vendor.ptb_urllib3.urllib3.connection.VerifiedHTTPSConnection object at 0x000002787E14FD30>: Failed to establish a new connection: [Errno 11001] getaddrinfo failed',))\n",
      "2020-07-31 07:43:20,175 - telegram.ext.dispatcher - ERROR - No error handlers are registered, logging exception.\n",
      "Traceback (most recent call last):\n",
      "  File \"c:\\users\\jeeva\\documents\\py_projects\\general\\lib\\site-packages\\telegram\\vendor\\ptb_urllib3\\urllib3\\connection.py\", line 141, in _new_conn\n",
      "    (self.host, self.port), self.timeout, **extra_kw)\n",
      "  File \"c:\\users\\jeeva\\documents\\py_projects\\general\\lib\\site-packages\\telegram\\vendor\\ptb_urllib3\\urllib3\\util\\connection.py\", line 60, in create_connection\n",
      "    for res in socket.getaddrinfo(host, port, family, socket.SOCK_STREAM):\n",
      "  File \"C:\\Users\\jeeva\\AppData\\Local\\Programs\\Python\\Python36\\lib\\socket.py\", line 745, in getaddrinfo\n",
      "    for res in _socket.getaddrinfo(host, port, family, type, proto, flags):\n",
      "socket.gaierror: [Errno 11001] getaddrinfo failed\n",
      "\n",
      "During handling of the above exception, another exception occurred:\n",
      "\n",
      "Traceback (most recent call last):\n",
      "  File \"c:\\users\\jeeva\\documents\\py_projects\\general\\lib\\site-packages\\telegram\\vendor\\ptb_urllib3\\urllib3\\connectionpool.py\", line 617, in urlopen\n",
      "    chunked=chunked)\n",
      "  File \"c:\\users\\jeeva\\documents\\py_projects\\general\\lib\\site-packages\\telegram\\vendor\\ptb_urllib3\\urllib3\\connectionpool.py\", line 360, in _make_request\n",
      "    self._validate_conn(conn)\n",
      "  File \"c:\\users\\jeeva\\documents\\py_projects\\general\\lib\\site-packages\\telegram\\vendor\\ptb_urllib3\\urllib3\\connectionpool.py\", line 857, in _validate_conn\n",
      "    super(HTTPSConnectionPool, self)._validate_conn(conn)\n",
      "  File \"c:\\users\\jeeva\\documents\\py_projects\\general\\lib\\site-packages\\telegram\\vendor\\ptb_urllib3\\urllib3\\connectionpool.py\", line 289, in _validate_conn\n",
      "    conn.connect()\n",
      "  File \"c:\\users\\jeeva\\documents\\py_projects\\general\\lib\\site-packages\\telegram\\vendor\\ptb_urllib3\\urllib3\\connection.py\", line 284, in connect\n",
      "    conn = self._new_conn()\n",
      "  File \"c:\\users\\jeeva\\documents\\py_projects\\general\\lib\\site-packages\\telegram\\vendor\\ptb_urllib3\\urllib3\\connection.py\", line 150, in _new_conn\n",
      "    self, \"Failed to establish a new connection: %s\" % e)\n",
      "telegram.vendor.ptb_urllib3.urllib3.exceptions.NewConnectionError: <telegram.vendor.ptb_urllib3.urllib3.connection.VerifiedHTTPSConnection object at 0x000002787E14FD30>: Failed to establish a new connection: [Errno 11001] getaddrinfo failed\n",
      "\n",
      "During handling of the above exception, another exception occurred:\n",
      "\n",
      "Traceback (most recent call last):\n",
      "  File \"c:\\users\\jeeva\\documents\\py_projects\\general\\lib\\site-packages\\telegram\\utils\\request.py\", line 225, in _request_wrapper\n",
      "    resp = self._con_pool.request(*args, **kwargs)\n",
      "  File \"c:\\users\\jeeva\\documents\\py_projects\\general\\lib\\site-packages\\telegram\\vendor\\ptb_urllib3\\urllib3\\request.py\", line 70, in request\n",
      "    **urlopen_kw)\n",
      "  File \"c:\\users\\jeeva\\documents\\py_projects\\general\\lib\\site-packages\\telegram\\vendor\\ptb_urllib3\\urllib3\\request.py\", line 148, in request_encode_body\n",
      "    return self.urlopen(method, url, **extra_kw)\n",
      "  File \"c:\\users\\jeeva\\documents\\py_projects\\general\\lib\\site-packages\\telegram\\vendor\\ptb_urllib3\\urllib3\\poolmanager.py\", line 244, in urlopen\n",
      "    response = conn.urlopen(method, u.request_uri, **kw)\n",
      "  File \"c:\\users\\jeeva\\documents\\py_projects\\general\\lib\\site-packages\\telegram\\vendor\\ptb_urllib3\\urllib3\\connectionpool.py\", line 695, in urlopen\n",
      "    **response_kw)\n",
      "  File \"c:\\users\\jeeva\\documents\\py_projects\\general\\lib\\site-packages\\telegram\\vendor\\ptb_urllib3\\urllib3\\connectionpool.py\", line 695, in urlopen\n",
      "    **response_kw)\n",
      "  File \"c:\\users\\jeeva\\documents\\py_projects\\general\\lib\\site-packages\\telegram\\vendor\\ptb_urllib3\\urllib3\\connectionpool.py\", line 695, in urlopen\n",
      "    **response_kw)\n",
      "  File \"c:\\users\\jeeva\\documents\\py_projects\\general\\lib\\site-packages\\telegram\\vendor\\ptb_urllib3\\urllib3\\connectionpool.py\", line 666, in urlopen\n",
      "    _stacktrace=sys.exc_info()[2])\n",
      "  File \"c:\\users\\jeeva\\documents\\py_projects\\general\\lib\\site-packages\\telegram\\vendor\\ptb_urllib3\\urllib3\\util\\retry.py\", line 376, in increment\n",
      "    raise MaxRetryError(_pool, url, error or ResponseError(cause))\n",
      "telegram.vendor.ptb_urllib3.urllib3.exceptions.MaxRetryError: HTTPSConnectionPool(host='api.telegram.org', port=443): Max retries exceeded with url: /bot1287326681:AAGcQEgXB45YWzvedw8BZlDjk9y5idKi5ug/getUpdates (Caused by NewConnectionError('<telegram.vendor.ptb_urllib3.urllib3.connection.VerifiedHTTPSConnection object at 0x000002787E14FD30>: Failed to establish a new connection: [Errno 11001] getaddrinfo failed',))\n",
      "\n",
      "During handling of the above exception, another exception occurred:\n",
      "\n",
      "Traceback (most recent call last):\n",
      "  File \"c:\\users\\jeeva\\documents\\py_projects\\general\\lib\\site-packages\\telegram\\ext\\updater.py\", line 380, in _network_loop_retry\n",
      "    if not action_cb():\n",
      "  File \"c:\\users\\jeeva\\documents\\py_projects\\general\\lib\\site-packages\\telegram\\ext\\updater.py\", line 341, in polling_action_cb\n",
      "    allowed_updates=allowed_updates)\n",
      "  File \"<decorator-gen-157>\", line 2, in get_updates\n",
      "  File \"c:\\users\\jeeva\\documents\\py_projects\\general\\lib\\site-packages\\telegram\\bot.py\", line 70, in decorator\n",
      "    result = func(*args, **kwargs)\n",
      "  File \"c:\\users\\jeeva\\documents\\py_projects\\general\\lib\\site-packages\\telegram\\bot.py\", line 2136, in get_updates\n",
      "    result = self._request.post(url, data, timeout=float(read_latency) + float(timeout))\n",
      "  File \"c:\\users\\jeeva\\documents\\py_projects\\general\\lib\\site-packages\\telegram\\utils\\request.py\", line 334, in post\n",
      "    **urlopen_kwargs)\n",
      "  File \"c:\\users\\jeeva\\documents\\py_projects\\general\\lib\\site-packages\\telegram\\utils\\request.py\", line 231, in _request_wrapper\n",
      "    raise NetworkError('urllib3 HTTPError {0}'.format(error))\n",
      "telegram.error.NetworkError: urllib3 HTTPError HTTPSConnectionPool(host='api.telegram.org', port=443): Max retries exceeded with url: /bot1287326681:AAGcQEgXB45YWzvedw8BZlDjk9y5idKi5ug/getUpdates (Caused by NewConnectionError('<telegram.vendor.ptb_urllib3.urllib3.connection.VerifiedHTTPSConnection object at 0x000002787E14FD30>: Failed to establish a new connection: [Errno 11001] getaddrinfo failed',))\n"
     ]
    }
   ],
   "source": [
    "for job in j.jobs():\n",
    "    job.schedule_removal()"
   ]
  },
  {
   "cell_type": "code",
   "execution_count": 45,
   "metadata": {},
   "outputs": [
    {
     "data": {
      "text/plain": [
       "(<telegram.ext.jobqueue.Job at 0x1a94f8be0b8>,)"
      ]
     },
     "execution_count": 45,
     "metadata": {},
     "output_type": "execute_result"
    }
   ],
   "source": [
    "j.jobs()"
   ]
  },
  {
   "cell_type": "code",
   "execution_count": null,
   "metadata": {},
   "outputs": [],
   "source": []
  },
  {
   "cell_type": "code",
   "execution_count": null,
   "metadata": {},
   "outputs": [],
   "source": []
  }
 ],
 "metadata": {
  "kernelspec": {
   "display_name": "Python 3",
   "language": "python",
   "name": "python3"
  },
  "language_info": {
   "codemirror_mode": {
    "name": "ipython",
    "version": 3
   },
   "file_extension": ".py",
   "mimetype": "text/x-python",
   "name": "python",
   "nbconvert_exporter": "python",
   "pygments_lexer": "ipython3",
   "version": "3.6.8"
  }
 },
 "nbformat": 4,
 "nbformat_minor": 4
}
